{
 "cells": [
  {
   "cell_type": "markdown",
   "metadata": {},
   "source": [
    "# Testing Agentic Planning with ControlFlow"
   ]
  },
  {
   "cell_type": "code",
   "execution_count": 24,
   "metadata": {},
   "outputs": [
    {
     "data": {
      "text/plain": [
       "True"
      ]
     },
     "execution_count": 24,
     "metadata": {},
     "output_type": "execute_result"
    }
   ],
   "source": [
    "from typing import List, Literal\n",
    "\n",
    "import controlflow as cf\n",
    "from dotenv import load_dotenv\n",
    "from pydantic import BaseModel, Field\n",
    "\n",
    "load_dotenv()"
   ]
  },
  {
   "cell_type": "markdown",
   "metadata": {},
   "source": [
    "## Multi-Agent Solution\n",
    "The flow we're eying atm would be this:\n",
    "```\n",
    "A: input P -> B [find Ps without NA children]\n",
    "B -> C{Any found?}\n",
    "C -> |yes| D[generate children for these Ps]\n",
    "D -> E[Classify new children as P or NA]\n",
    "E -> D\n",
    "C -> |no| F[Check if each P's direct children achieve its outcome]\n",
    "F -> |Incomplete Ps| D\n",
    "F -> |all complete| G[Final Task Tree]\n",
    "```\n",
    "\n",
    "But let's build towards this gradually.\n",
    "\n",
    "\n",
    "\n",
    "\n"
   ]
  },
  {
   "cell_type": "markdown",
   "metadata": {},
   "source": [
    "### V0.0.3 - add Task classification as Project or Next Action"
   ]
  },
  {
   "cell_type": "code",
   "execution_count": 25,
   "metadata": {},
   "outputs": [],
   "source": [
    "class TaskNode(BaseModel):\n",
    "    id: str = Field(description=\"Unique identifier for the task\")\n",
    "    title: str = Field(description=\"Title/description of the task\")\n",
    "    type: Literal[\"project\", \"next_action\"] = Field(\n",
    "        description=\"Type of the task, either 'project' or 'next_action'\"\n",
    "    )\n",
    "    subtasks: List[\"TaskNode\"] = Field(default_factory=list)\n",
    "\n",
    "\n",
    "TaskNode.model_rebuild()\n",
    "\n",
    "\n",
    "# Result wrapper for ControlFlow\n",
    "class TaskResult(BaseModel):\n",
    "    task: TaskNode"
   ]
  },
  {
   "cell_type": "code",
   "execution_count": 26,
   "metadata": {},
   "outputs": [],
   "source": [
    "def print_task_nodes(task: TaskNode, indent: int = 0):\n",
    "    \"\"\"Print task tree recursively with nice formatting.\n",
    "\n",
    "    Args:\n",
    "        task: Task to print\n",
    "        indent: Current indentation level\n",
    "    \"\"\"\n",
    "    # Print current task with indentation\n",
    "    classification = \"P\" if task.type == \"project\" else \"NA\"\n",
    "    print(\"    \" * indent + f\"{task.id} - {classification} - {task.title}\")\n",
    "\n",
    "    # Recursively print subtasks\n",
    "    for subtask in task.subtasks:\n",
    "        print_task_nodes(subtask, indent + 1)"
   ]
  },
  {
   "cell_type": "code",
   "execution_count": 27,
   "metadata": {},
   "outputs": [
    {
     "data": {
      "application/vnd.jupyter.widget-view+json": {
       "model_id": "916fece52f81423e8bdc3ddc9e96112a",
       "version_major": 2,
       "version_minor": 0
      },
      "text/plain": [
       "Output()"
      ]
     },
     "metadata": {},
     "output_type": "display_data"
    },
    {
     "data": {
      "text/html": [
       "<pre style=\"white-space:pre;overflow-x:auto;line-height:normal;font-family:Menlo,'DejaVu Sans Mono',consolas,'Courier New',monospace\">17:54:00.520 | <span style=\"color: #d70000; text-decoration-color: #d70000\">ERROR</span>   | Task run 'Tool call: mark_task_aca6b6d9_successful' - Task run failed with exception: 4 validation errors for TaskResult\n",
       "task.subtasks.0.id\n",
       "  Field required [type=missing, input_value={'title': 'Update resume ..., 'type': 'next_action'}, input_type=dict]\n",
       "    For further information visit <span style=\"color: #0000ff; text-decoration-color: #0000ff\">https://errors.pydantic.dev/2.10/v/missing</span>\n",
       "task.subtasks.1.id\n",
       "  Field required [type=missing, input_value={'title': 'Build a portfo..., 'type': 'next_action'}, input_type=dict]\n",
       "    For further information visit <span style=\"color: #0000ff; text-decoration-color: #0000ff\">https://errors.pydantic.dev/2.10/v/missing</span>\n",
       "task.subtasks.2.id\n",
       "  Field required [type=missing, input_value={'title': 'Research compa..., 'type': 'next_action'}, input_type=dict]\n",
       "    For further information visit <span style=\"color: #0000ff; text-decoration-color: #0000ff\">https://errors.pydantic.dev/2.10/v/missing</span>\n",
       "task.subtasks.3.id\n",
       "  Field required [type=missing, input_value={'title': 'Apply to at le..., 'type': 'next_action'}, input_type=dict]\n",
       "    For further information visit <span style=\"color: #0000ff; text-decoration-color: #0000ff\">https://errors.pydantic.dev/2.10/v/missing</span> - Retries are exhausted\n",
       "Traceback (most recent call last):\n",
       "  File \"c:\\Users\\jonat\\Documents\\code\\taskchunker-backend\\notebooks\\.venv-notebooks\\Lib\\site-packages\\prefect\\task_engine.py\", line 805, in run_context\n",
       "    yield self\n",
       "  File \"c:\\Users\\jonat\\Documents\\code\\taskchunker-backend\\notebooks\\.venv-notebooks\\Lib\\site-packages\\prefect\\task_engine.py\", line 1387, in run_task_sync\n",
       "    engine.call_task_fn(txn)\n",
       "  File \"c:\\Users\\jonat\\Documents\\code\\taskchunker-backend\\notebooks\\.venv-notebooks\\Lib\\site-packages\\prefect\\task_engine.py\", line 828, in call_task_fn\n",
       "    result = call_with_parameters(self.task.fn, parameters)\n",
       "             ^^^^^^^^^^^^^^^^^^^^^^^^^^^^^^^^^^^^^^^^^^^^^^\n",
       "  File \"c:\\Users\\jonat\\Documents\\code\\taskchunker-backend\\notebooks\\.venv-notebooks\\Lib\\site-packages\\prefect\\utilities\\callables.py\", line 208, in call_with_parameters\n",
       "    return fn(*args, **kwargs)\n",
       "           ^^^^^^^^^^^^^^^^^^^\n",
       "  File \"c:\\Users\\jonat\\Documents\\code\\taskchunker-backend\\notebooks\\.venv-notebooks\\Lib\\site-packages\\controlflow\\tools\\tools.py\", line 61, in run\n",
       "    result = self.fn(**input)\n",
       "             ^^^^^^^^^^^^^^^^\n",
       "  File \"c:\\Users\\jonat\\Documents\\code\\taskchunker-backend\\notebooks\\.venv-notebooks\\Lib\\site-packages\\controlflow\\tasks\\task.py\", line 684, in succeed\n",
       "    self.mark_successful(result=result_schema(**kwargs))\n",
       "                                ^^^^^^^^^^^^^^^^^^^^^^^\n",
       "  File \"c:\\Users\\jonat\\Documents\\code\\taskchunker-backend\\notebooks\\.venv-notebooks\\Lib\\site-packages\\pydantic\\main.py\", line 214, in __init__\n",
       "    validated_self = self.__pydantic_validator__.validate_python(data, self_instance=self)\n",
       "                     ^^^^^^^^^^^^^^^^^^^^^^^^^^^^^^^^^^^^^^^^^^^^^^^^^^^^^^^^^^^^^^^^^^^^^\n",
       "pydantic_core._pydantic_core.ValidationError: 4 validation errors for TaskResult\n",
       "task.subtasks.0.id\n",
       "  Field required [type=missing, input_value={'title': 'Update resume ..., 'type': 'next_action'}, input_type=dict]\n",
       "    For further information visit <span style=\"color: #0000ff; text-decoration-color: #0000ff\">https://errors.pydantic.dev/2.10/v/missing</span>\n",
       "task.subtasks.1.id\n",
       "  Field required [type=missing, input_value={'title': 'Build a portfo..., 'type': 'next_action'}, input_type=dict]\n",
       "    For further information visit <span style=\"color: #0000ff; text-decoration-color: #0000ff\">https://errors.pydantic.dev/2.10/v/missing</span>\n",
       "task.subtasks.2.id\n",
       "  Field required [type=missing, input_value={'title': 'Research compa..., 'type': 'next_action'}, input_type=dict]\n",
       "    For further information visit <span style=\"color: #0000ff; text-decoration-color: #0000ff\">https://errors.pydantic.dev/2.10/v/missing</span>\n",
       "task.subtasks.3.id\n",
       "  Field required [type=missing, input_value={'title': 'Apply to at le..., 'type': 'next_action'}, input_type=dict]\n",
       "    For further information visit <span style=\"color: #0000ff; text-decoration-color: #0000ff\">https://errors.pydantic.dev/2.10/v/missing</span>\n",
       "</pre>\n"
      ],
      "text/plain": [
       "17:54:00.520 | \u001b[38;5;160mERROR\u001b[0m   | Task run 'Tool call: mark_task_aca6b6d9_successful' - Task run failed with exception: 4 validation errors for TaskResult\n",
       "task.subtasks.0.id\n",
       "  Field required [type=missing, input_value={'title': 'Update resume ..., 'type': 'next_action'}, input_type=dict]\n",
       "    For further information visit \u001b[94mhttps://errors.pydantic.dev/2.10/v/missing\u001b[0m\n",
       "task.subtasks.1.id\n",
       "  Field required [type=missing, input_value={'title': 'Build a portfo..., 'type': 'next_action'}, input_type=dict]\n",
       "    For further information visit \u001b[94mhttps://errors.pydantic.dev/2.10/v/missing\u001b[0m\n",
       "task.subtasks.2.id\n",
       "  Field required [type=missing, input_value={'title': 'Research compa..., 'type': 'next_action'}, input_type=dict]\n",
       "    For further information visit \u001b[94mhttps://errors.pydantic.dev/2.10/v/missing\u001b[0m\n",
       "task.subtasks.3.id\n",
       "  Field required [type=missing, input_value={'title': 'Apply to at le..., 'type': 'next_action'}, input_type=dict]\n",
       "    For further information visit \u001b[94mhttps://errors.pydantic.dev/2.10/v/missing\u001b[0m - Retries are exhausted\n",
       "Traceback (most recent call last):\n",
       "  File \"c:\\Users\\jonat\\Documents\\code\\taskchunker-backend\\notebooks\\.venv-notebooks\\Lib\\site-packages\\prefect\\task_engine.py\", line 805, in run_context\n",
       "    yield self\n",
       "  File \"c:\\Users\\jonat\\Documents\\code\\taskchunker-backend\\notebooks\\.venv-notebooks\\Lib\\site-packages\\prefect\\task_engine.py\", line 1387, in run_task_sync\n",
       "    engine.call_task_fn(txn)\n",
       "  File \"c:\\Users\\jonat\\Documents\\code\\taskchunker-backend\\notebooks\\.venv-notebooks\\Lib\\site-packages\\prefect\\task_engine.py\", line 828, in call_task_fn\n",
       "    result = call_with_parameters(self.task.fn, parameters)\n",
       "             ^^^^^^^^^^^^^^^^^^^^^^^^^^^^^^^^^^^^^^^^^^^^^^\n",
       "  File \"c:\\Users\\jonat\\Documents\\code\\taskchunker-backend\\notebooks\\.venv-notebooks\\Lib\\site-packages\\prefect\\utilities\\callables.py\", line 208, in call_with_parameters\n",
       "    return fn(*args, **kwargs)\n",
       "           ^^^^^^^^^^^^^^^^^^^\n",
       "  File \"c:\\Users\\jonat\\Documents\\code\\taskchunker-backend\\notebooks\\.venv-notebooks\\Lib\\site-packages\\controlflow\\tools\\tools.py\", line 61, in run\n",
       "    result = self.fn(**input)\n",
       "             ^^^^^^^^^^^^^^^^\n",
       "  File \"c:\\Users\\jonat\\Documents\\code\\taskchunker-backend\\notebooks\\.venv-notebooks\\Lib\\site-packages\\controlflow\\tasks\\task.py\", line 684, in succeed\n",
       "    self.mark_successful(result=result_schema(**kwargs))\n",
       "                                ^^^^^^^^^^^^^^^^^^^^^^^\n",
       "  File \"c:\\Users\\jonat\\Documents\\code\\taskchunker-backend\\notebooks\\.venv-notebooks\\Lib\\site-packages\\pydantic\\main.py\", line 214, in __init__\n",
       "    validated_self = self.__pydantic_validator__.validate_python(data, self_instance=self)\n",
       "                     ^^^^^^^^^^^^^^^^^^^^^^^^^^^^^^^^^^^^^^^^^^^^^^^^^^^^^^^^^^^^^^^^^^^^^\n",
       "pydantic_core._pydantic_core.ValidationError: 4 validation errors for TaskResult\n",
       "task.subtasks.0.id\n",
       "  Field required [type=missing, input_value={'title': 'Update resume ..., 'type': 'next_action'}, input_type=dict]\n",
       "    For further information visit \u001b[94mhttps://errors.pydantic.dev/2.10/v/missing\u001b[0m\n",
       "task.subtasks.1.id\n",
       "  Field required [type=missing, input_value={'title': 'Build a portfo..., 'type': 'next_action'}, input_type=dict]\n",
       "    For further information visit \u001b[94mhttps://errors.pydantic.dev/2.10/v/missing\u001b[0m\n",
       "task.subtasks.2.id\n",
       "  Field required [type=missing, input_value={'title': 'Research compa..., 'type': 'next_action'}, input_type=dict]\n",
       "    For further information visit \u001b[94mhttps://errors.pydantic.dev/2.10/v/missing\u001b[0m\n",
       "task.subtasks.3.id\n",
       "  Field required [type=missing, input_value={'title': 'Apply to at le..., 'type': 'next_action'}, input_type=dict]\n",
       "    For further information visit \u001b[94mhttps://errors.pydantic.dev/2.10/v/missing\u001b[0m\n"
      ]
     },
     "metadata": {},
     "output_type": "display_data"
    },
    {
     "data": {
      "text/html": [
       "<pre style=\"white-space:pre;overflow-x:auto;line-height:normal;font-family:Menlo,'DejaVu Sans Mono',consolas,'Courier New',monospace\">17:54:00.520 | <span style=\"color: #d70000; text-decoration-color: #d70000\">ERROR</span>   | Task run 'Tool call: mark_task_aca6b6d9_successful' - Finished in state <span style=\"color: #d70000; text-decoration-color: #d70000\">Failed</span>(\"Task run encountered an exception ValidationError: 4 validation errors for TaskResult\\ntask.subtasks.0.id\\n  Field required [type=missing, input_value={'title': 'Update resume ..., 'type': 'next_action'}, input_type=dict]\\n    For further information visit <span style=\"color: #0000ff; text-decoration-color: #0000ff\">https://errors.pydantic.dev/2.10/v/missing</span>\\ntask.subtasks.1.id\\n  Field required [type=missing, input_value={'title': 'Build a portfo..., 'type': 'next_action'}, input_type=dict]\\n    For further information visit <span style=\"color: #0000ff; text-decoration-color: #0000ff\">https://errors.pydantic.dev/2.10/v/missing</span>\\ntask.subtasks.2.id\\n  Field required [type=missing, input_value={'title': 'Research compa..., 'type': 'next_action'}, input_type=dict]\\n    For further information visit <span style=\"color: #0000ff; text-decoration-color: #0000ff\">https://errors.pydantic.dev/2.10/v/missing</span>\\ntask.subtasks.3.id\\n  Field required [type=missing, input_value={'title': 'Apply to at le..., 'type': 'next_action'}, input_type=dict]\\n    For further information visit <span style=\"color: #0000ff; text-decoration-color: #0000ff\">https://errors.pydantic.dev/2.10/v/missing</span>\")\n",
       "</pre>\n"
      ],
      "text/plain": [
       "17:54:00.520 | \u001b[38;5;160mERROR\u001b[0m   | Task run 'Tool call: mark_task_aca6b6d9_successful' - Finished in state \u001b[38;5;160mFailed\u001b[0m(\"Task run encountered an exception ValidationError: 4 validation errors for TaskResult\\ntask.subtasks.0.id\\n  Field required [type=missing, input_value={'title': 'Update resume ..., 'type': 'next_action'}, input_type=dict]\\n    For further information visit \u001b[94mhttps://errors.pydantic.dev/2.10/v/missing\u001b[0m\\ntask.subtasks.1.id\\n  Field required [type=missing, input_value={'title': 'Build a portfo..., 'type': 'next_action'}, input_type=dict]\\n    For further information visit \u001b[94mhttps://errors.pydantic.dev/2.10/v/missing\u001b[0m\\ntask.subtasks.2.id\\n  Field required [type=missing, input_value={'title': 'Research compa..., 'type': 'next_action'}, input_type=dict]\\n    For further information visit \u001b[94mhttps://errors.pydantic.dev/2.10/v/missing\u001b[0m\\ntask.subtasks.3.id\\n  Field required [type=missing, input_value={'title': 'Apply to at le..., 'type': 'next_action'}, input_type=dict]\\n    For further information visit \u001b[94mhttps://errors.pydantic.dev/2.10/v/missing\u001b[0m\")\n"
      ]
     },
     "metadata": {},
     "output_type": "display_data"
    },
    {
     "data": {
      "text/html": [
       "<pre style=\"white-space:pre;overflow-x:auto;line-height:normal;font-family:Menlo,'DejaVu Sans Mono',consolas,'Courier New',monospace\"></pre>\n"
      ],
      "text/plain": []
     },
     "metadata": {},
     "output_type": "display_data"
    },
    {
     "data": {
      "application/vnd.jupyter.widget-view+json": {
       "model_id": "eb743832e7824b889224789933b1524f",
       "version_major": 2,
       "version_minor": 0
      },
      "text/plain": [
       "Output()"
      ]
     },
     "metadata": {},
     "output_type": "display_data"
    },
    {
     "data": {
      "text/html": [
       "<pre style=\"white-space:pre;overflow-x:auto;line-height:normal;font-family:Menlo,'DejaVu Sans Mono',consolas,'Courier New',monospace\"></pre>\n"
      ],
      "text/plain": []
     },
     "metadata": {},
     "output_type": "display_data"
    },
    {
     "name": "stdout",
     "output_type": "stream",
     "text": [
      "id='7ddbe0fb' title=\"Classify each subtask as either 'project' or 'next_action'. Return the complete TaskResult with classifications added.\" type='project' subtasks=[TaskNode(id='subtask1', title='Update resume with relevant skills and experience', type='next_action', subtasks=[]), TaskNode(id='subtask2', title='Build a portfolio showcasing generative AI projects', type='project', subtasks=[]), TaskNode(id='subtask3', title='Research companies hiring genAI engineers', type='project', subtasks=[]), TaskNode(id='subtask4', title='Apply to at least five job openings', type='next_action', subtasks=[])]\n"
     ]
    }
   ],
   "source": [
    "chunker_instructions = \"\"\"\n",
    "You are a Getting Things Done (GTD) expert at breaking down projects into subtasks.\n",
    "\n",
    "Word a subtask in one of two ways:\n",
    "- either as a concrete, actionable step that can be done in one go without questions\n",
    "- or as an outcome that needs to be achieved by taking several concrete steps.\n",
    "\"\"\"\n",
    "chunker = cf.Agent(\n",
    "    name=\"Project Chunker\",\n",
    "    model=\"openai/gpt-4o-mini\",\n",
    "    instructions=chunker_instructions,\n",
    ")\n",
    "\n",
    "classifier_instructions = \"\"\"\n",
    "You are a Getting Things Done (GTD) expert at analyzing and classifying tasks.\n",
    "\n",
    "CRITICAL CHECK: Before classifying any task as NA, ask yourself:\n",
    "1. Can this be done in a single sitting without interruption?\n",
    "2. Do I know EXACTLY what physical action to take first?\n",
    "3. Is there ANY planning or decision-making needed before starting?\n",
    "4. Does this involve multiple tools, steps, or sessions?\n",
    "\n",
    "AUTOMATIC PROJECT TRIGGERS - Mark as P if the task:\n",
    "1. Contains words like:\n",
    "   - \"Update\", \"Prepare\", \"Research\", \"Network\"\n",
    "   - \"Get ready\", \"Set up\", \"Develop\", \"Build\"\n",
    "2. Requires ongoing effort or multiple sessions\n",
    "3. Needs decisions about \"how\" or \"what\" before starting\n",
    "4. Could be broken down into multiple smaller tasks\n",
    "\n",
    "Examples with analysis:\n",
    "\n",
    "\"Update your resume\" -> PROJECT\n",
    "Why? \n",
    "- Requires multiple decisions (what to add/remove)\n",
    "- Multiple sections to work on\n",
    "- Needs review and iteration\n",
    "Better wording: \"Create targeted resume for genAI positions (P)\"\n",
    "\n",
    "\"Research companies\" -> PROJECT\n",
    "Why?\n",
    "- Where to research?\n",
    "- What criteria to use?\n",
    "- How to track findings?\n",
    "Better wording: \"Create shortlist of potential employer companies (P)\"\n",
    "\n",
    "\"Network with professionals\" -> PROJECT\n",
    "Why?\n",
    "- Who to contact?\n",
    "- What to say?\n",
    "- Multiple interactions needed\n",
    "Better wording: \"Build professional network in genAI field (P)\"\n",
    "\n",
    "\"Prepare for interviews\" -> PROJECT\n",
    "Why?\n",
    "- Multiple topics to cover\n",
    "- Requires practice sessions\n",
    "- Needs materials and planning\n",
    "Better wording: \"Develop interview preparation system (P)\"\n",
    "\n",
    "TRUE NEXT ACTIONS examples:\n",
    "- \"Send connection request to Sarah Smith with drafted message\"\n",
    "- \"Add Python certification to resume's Skills section\"\n",
    "- \"Schedule mock interview with John for Tuesday at 2pm\"\n",
    "\n",
    "Remember: If you can't immediately start the task RIGHT NOW with NO planning,\n",
    "it's a PROJECT, not a Next Action!\n",
    "\"\"\"\n",
    "\n",
    "classifier = cf.Agent(\n",
    "    name=\"Task Classifier\",\n",
    "    model=\"openai/gpt-4o-mini\",\n",
    "    instructions=classifier_instructions,\n",
    ")\n",
    "\n",
    "\n",
    "@cf.flow\n",
    "def chunk_flow_v0_0_3(project: str):\n",
    "    # Initialize with root project\n",
    "    root_task_id = \"1\"\n",
    "    root_task = TaskNode(id=root_task_id, title=project, type=\"project\")\n",
    "\n",
    "    with cf.Task(\n",
    "        \"Generate hyrarchical task tree for this project, where each task is a \\\n",
    "            either a project or a next action\",\n",
    "        result_type=TaskResult,\n",
    "        agents=[chunker, classifier],\n",
    "    ) as main_task:\n",
    "        task_tree = cf.run(\n",
    "            \"\"\"\n",
    "            Break given task into subtasks.\n",
    "            Return a TaskResult containing a TaskNode with:\n",
    "            - The root task\n",
    "            - 3-5 subtasks in the subtasks list\n",
    "            Once you split the task into subtasks, mark this task as complete.\n",
    "            \"\"\",\n",
    "            context=dict(\n",
    "                task=root_task,\n",
    "            ),\n",
    "            agents=[chunker],\n",
    "            result_type=TaskResult,\n",
    "            tools=[main_task.get_success_tool()],\n",
    "        )\n",
    "\n",
    "        classified_tree = cf.run(\n",
    "            \"\"\"\n",
    "            Classify each subtask as either 'project' or 'next_action'.\n",
    "            Return the complete TaskResult with classifications added.\n",
    "            Once done, use the main task tool to mark the entire process as complete.\n",
    "            \"\"\",\n",
    "            context=dict(task_tree=task_tree),\n",
    "            agents=[classifier],\n",
    "            result_type=TaskResult,\n",
    "            tools=[main_task.get_success_tool()],\n",
    "        )\n",
    "\n",
    "        # tasks = TaskList(tasks=tasks.tasks + new_tasks.tasks)\n",
    "\n",
    "    return classified_tree.task\n",
    "\n",
    "\n",
    "tasks = chunk_flow_v0_0_3(\"Get a job as a genAI engineer\")\n",
    "\n",
    "print(tasks)"
   ]
  },
  {
   "cell_type": "code",
   "execution_count": 28,
   "metadata": {},
   "outputs": [
    {
     "name": "stdout",
     "output_type": "stream",
     "text": [
      "7ddbe0fb - P - Classify each subtask as either 'project' or 'next_action'. Return the complete TaskResult with classifications added.\n",
      "    subtask1 - NA - Update resume with relevant skills and experience\n",
      "    subtask2 - P - Build a portfolio showcasing generative AI projects\n",
      "    subtask3 - P - Research companies hiring genAI engineers\n",
      "    subtask4 - NA - Apply to at least five job openings\n"
     ]
    }
   ],
   "source": [
    "print_task_nodes(tasks)"
   ]
  }
 ],
 "metadata": {
  "kernelspec": {
   "display_name": ".venv-notebooks",
   "language": "python",
   "name": "python3"
  },
  "language_info": {
   "codemirror_mode": {
    "name": "ipython",
    "version": 3
   },
   "file_extension": ".py",
   "mimetype": "text/x-python",
   "name": "python",
   "nbconvert_exporter": "python",
   "pygments_lexer": "ipython3",
   "version": "3.12.8"
  }
 },
 "nbformat": 4,
 "nbformat_minor": 2
}
