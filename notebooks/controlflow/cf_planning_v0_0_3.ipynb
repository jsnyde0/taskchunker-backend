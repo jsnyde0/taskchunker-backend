{
 "cells": [
  {
   "cell_type": "markdown",
   "metadata": {},
   "source": [
    "# Testing Agentic Planning with ControlFlow"
   ]
  },
  {
   "cell_type": "code",
   "execution_count": 24,
   "metadata": {},
   "outputs": [
    {
     "data": {
      "text/plain": [
       "True"
      ]
     },
     "execution_count": 24,
     "metadata": {},
     "output_type": "execute_result"
    }
   ],
   "source": [
    "from typing import List, Literal\n",
    "\n",
    "import controlflow as cf\n",
    "from dotenv import load_dotenv\n",
    "from pydantic import BaseModel, Field\n",
    "\n",
    "load_dotenv()"
   ]
  },
  {
   "cell_type": "markdown",
   "metadata": {},
   "source": [
    "## Multi-Agent Solution\n",
    "The flow we're eying atm would be this:\n",
    "```\n",
    "A: input P -> B [find Ps without NA children]\n",
    "B -> C{Any found?}\n",
    "C -> |yes| D[generate children for these Ps]\n",
    "D -> E[Classify new children as P or NA]\n",
    "E -> D\n",
    "C -> |no| F[Check if each P's direct children achieve its outcome]\n",
    "F -> |Incomplete Ps| D\n",
    "F -> |all complete| G[Final Task Tree]\n",
    "```\n",
    "\n",
    "But let's build towards this gradually.\n",
    "\n",
    "\n",
    "\n",
    "\n"
   ]
  },
  {
   "cell_type": "markdown",
   "metadata": {},
   "source": [
    "### V0.0.3 - add Task classification as Project or Next Action"
   ]
  },
  {
   "cell_type": "code",
   "execution_count": 25,
   "metadata": {},
   "outputs": [],
   "source": [
    "class TaskNode(BaseModel):\n",
    "    id: str = Field(description=\"Unique identifier for the task\")\n",
    "    title: str = Field(description=\"Title/description of the task\")\n",
    "    type: Literal[\"project\", \"next_action\"] = Field(\n",
    "        description=\"Type of the task, either 'project' or 'next_action'\"\n",
    "    )\n",
    "    subtasks: List[\"TaskNode\"] = Field(default_factory=list)\n",
    "\n",
    "\n",
    "TaskNode.model_rebuild()\n",
    "\n",
    "\n",
    "# Result wrapper for ControlFlow\n",
    "class TaskResult(BaseModel):\n",
    "    task: TaskNode"
   ]
  },
  {
   "cell_type": "code",
   "execution_count": 26,
   "metadata": {},
   "outputs": [],
   "source": [
    "def print_task_nodes(task: TaskNode, indent: int = 0):\n",
    "    \"\"\"Print task tree recursively with nice formatting.\n",
    "\n",
    "    Args:\n",
    "        task: Task to print\n",
    "        indent: Current indentation level\n",
    "    \"\"\"\n",
    "    # Print current task with indentation\n",
    "    classification = \"P\" if task.type == \"project\" else \"NA\"\n",
    "    print(\"    \" * indent + f\"{task.id} - {classification} - {task.title}\")\n",
    "\n",
    "    # Recursively print subtasks\n",
    "    for subtask in task.subtasks:\n",
    "        print_task_nodes(subtask, indent + 1)"
   ]
  },
  {
   "cell_type": "code",
   "execution_count": 29,
   "metadata": {},
   "outputs": [
    {
     "data": {
      "application/vnd.jupyter.widget-view+json": {
       "model_id": "0dd2f5383e7c4258a7bfb8a8ad6f1fb5",
       "version_major": 2,
       "version_minor": 0
      },
      "text/plain": [
       "Output()"
      ]
     },
     "metadata": {},
     "output_type": "display_data"
    },
    {
     "data": {
      "text/html": [
       "<pre style=\"white-space:pre;overflow-x:auto;line-height:normal;font-family:Menlo,'DejaVu Sans Mono',consolas,'Courier New',monospace\"></pre>\n"
      ],
      "text/plain": []
     },
     "metadata": {},
     "output_type": "display_data"
    },
    {
     "data": {
      "application/vnd.jupyter.widget-view+json": {
       "model_id": "c754cbf79a884aa08b12a43a5445ffe2",
       "version_major": 2,
       "version_minor": 0
      },
      "text/plain": [
       "Output()"
      ]
     },
     "metadata": {},
     "output_type": "display_data"
    },
    {
     "data": {
      "text/html": [
       "<pre style=\"white-space:pre;overflow-x:auto;line-height:normal;font-family:Menlo,'DejaVu Sans Mono',consolas,'Courier New',monospace\"></pre>\n"
      ],
      "text/plain": []
     },
     "metadata": {},
     "output_type": "display_data"
    },
    {
     "name": "stdout",
     "output_type": "stream",
     "text": [
      "id='1' title='Get a job as a genAI engineer' type='project' subtasks=[TaskNode(id='1.1', title='Update resume to highlight relevant skills and experiences for genAI engineering jobs', type='next_action', subtasks=[]), TaskNode(id='1.2', title='Create tailored cover letters for at least three specific job postings', type='next_action', subtasks=[]), TaskNode(id='1.3', title='Research companies hiring genAI engineers and make a list of potential employers', type='project', subtasks=[]), TaskNode(id='1.4', title='Network with professionals in the genAI field through LinkedIn or industry events', type='project', subtasks=[]), TaskNode(id='1.5', title='Prepare for technical interviews by practicing coding challenges and genAI concepts', type='project', subtasks=[])]\n"
     ]
    }
   ],
   "source": [
    "chunker_instructions = \"\"\"\n",
    "You are a Getting Things Done (GTD) expert at breaking down projects into subtasks.\n",
    "\n",
    "Word a subtask in one of two ways:\n",
    "- either as a concrete, actionable step that can be done in one go without questions\n",
    "- or as an outcome that needs to be achieved by taking several concrete steps.\n",
    "\"\"\"\n",
    "chunker = cf.Agent(\n",
    "    name=\"Project Chunker\",\n",
    "    model=\"openai/gpt-4o-mini\",\n",
    "    instructions=chunker_instructions,\n",
    ")\n",
    "\n",
    "classifier_instructions = \"\"\"\n",
    "You are a Getting Things Done (GTD) expert at analyzing and classifying tasks.\n",
    "\n",
    "IMPORTANT: For each task, you MUST include:\n",
    "1. id: String (use format: parent_id + letter, e.g., \"1.a\", \"1.b\", \"1.c\")\n",
    "2. title: String (the task description)\n",
    "3. type: Either \"project\" or \"next_action\"\n",
    "\n",
    "CRITICAL CHECK: Before classifying any task as NA, ask yourself:\n",
    "1. Can this be done in a single sitting without interruption?\n",
    "2. Do I know EXACTLY what physical action to take first?\n",
    "3. Is there ANY planning or decision-making needed before starting?\n",
    "4. Does this involve multiple tools, steps, or sessions?\n",
    "\n",
    "AUTOMATIC PROJECT TRIGGERS - Mark as P if the task:\n",
    "1. Contains words like:\n",
    "   - \"Update\", \"Prepare\", \"Research\", \"Network\"\n",
    "   - \"Get ready\", \"Set up\", \"Develop\", \"Build\"\n",
    "2. Requires ongoing effort or multiple sessions\n",
    "3. Needs decisions about \"how\" or \"what\" before starting\n",
    "4. Could be broken down into multiple smaller tasks\n",
    "\n",
    "Examples with analysis:\n",
    "\n",
    "\"Update your resume\" -> PROJECT\n",
    "Why? \n",
    "- Requires multiple decisions (what to add/remove)\n",
    "- Multiple sections to work on\n",
    "- Needs review and iteration\n",
    "Better wording: \"Create targeted resume for genAI positions (P)\"\n",
    "\n",
    "\"Research companies\" -> PROJECT\n",
    "Why?\n",
    "- Where to research?\n",
    "- What criteria to use?\n",
    "- How to track findings?\n",
    "Better wording: \"Create shortlist of potential employer companies (P)\"\n",
    "\n",
    "\"Network with professionals\" -> PROJECT\n",
    "Why?\n",
    "- Who to contact?\n",
    "- What to say?\n",
    "- Multiple interactions needed\n",
    "Better wording: \"Build professional network in genAI field (P)\"\n",
    "\n",
    "\"Prepare for interviews\" -> PROJECT\n",
    "Why?\n",
    "- Multiple topics to cover\n",
    "- Requires practice sessions\n",
    "- Needs materials and planning\n",
    "Better wording: \"Develop interview preparation system (P)\"\n",
    "\n",
    "TRUE NEXT ACTIONS examples:\n",
    "- \"Send connection request to Sarah Smith with drafted message\"\n",
    "- \"Add Python certification to resume's Skills section\"\n",
    "- \"Schedule mock interview with John for Tuesday at 2pm\"\n",
    "\n",
    "Remember: If you can't immediately start the task RIGHT NOW with NO planning,\n",
    "it's a PROJECT, not a Next Action!\n",
    "\"\"\"\n",
    "\n",
    "classifier = cf.Agent(\n",
    "    name=\"Task Classifier\",\n",
    "    model=\"openai/gpt-4o-mini\",\n",
    "    instructions=classifier_instructions,\n",
    ")\n",
    "\n",
    "\n",
    "@cf.flow\n",
    "def chunk_flow_v0_0_3(project: str):\n",
    "    # Initialize with root project\n",
    "    root_task_id = \"1\"\n",
    "    root_task = TaskNode(id=root_task_id, title=project, type=\"project\")\n",
    "\n",
    "    with cf.Task(\n",
    "        \"Generate hyrarchical task tree for this project, where each task is a \\\n",
    "            either a project or a next action\",\n",
    "        result_type=TaskResult,\n",
    "        agents=[chunker, classifier],\n",
    "    ) as main_task:\n",
    "        task_tree = cf.run(\n",
    "            \"\"\"\n",
    "            Break given task into subtasks.\n",
    "            Return a TaskResult containing a TaskNode with:\n",
    "            - The root task\n",
    "            - 3-5 subtasks in the subtasks list\n",
    "            Once you split the task into subtasks, mark this task as complete.\n",
    "            \"\"\",\n",
    "            context=dict(\n",
    "                task=root_task,\n",
    "            ),\n",
    "            agents=[chunker],\n",
    "            result_type=TaskResult,\n",
    "            tools=[main_task.get_success_tool()],\n",
    "        )\n",
    "\n",
    "        classified_tree = cf.run(\n",
    "            \"\"\"\n",
    "            Classify each subtask as either 'project' or 'next_action'.\n",
    "            Return the complete TaskResult with classifications added.\n",
    "            Once done, use the main task tool to mark the entire process as complete.\n",
    "            \"\"\",\n",
    "            context=dict(task_tree=task_tree),\n",
    "            agents=[classifier],\n",
    "            result_type=TaskResult,\n",
    "            tools=[main_task.get_success_tool()],\n",
    "        )\n",
    "\n",
    "        # tasks = TaskList(tasks=tasks.tasks + new_tasks.tasks)\n",
    "\n",
    "    return classified_tree.task\n",
    "\n",
    "\n",
    "tasks = chunk_flow_v0_0_3(\"Get a job as a genAI engineer\")\n",
    "\n",
    "print(tasks)"
   ]
  },
  {
   "cell_type": "code",
   "execution_count": 30,
   "metadata": {},
   "outputs": [
    {
     "name": "stdout",
     "output_type": "stream",
     "text": [
      "1 - P - Get a job as a genAI engineer\n",
      "    1.1 - NA - Update resume to highlight relevant skills and experiences for genAI engineering jobs\n",
      "    1.2 - NA - Create tailored cover letters for at least three specific job postings\n",
      "    1.3 - P - Research companies hiring genAI engineers and make a list of potential employers\n",
      "    1.4 - P - Network with professionals in the genAI field through LinkedIn or industry events\n",
      "    1.5 - P - Prepare for technical interviews by practicing coding challenges and genAI concepts\n"
     ]
    }
   ],
   "source": [
    "print_task_nodes(tasks)"
   ]
  }
 ],
 "metadata": {
  "kernelspec": {
   "display_name": ".venv-notebooks",
   "language": "python",
   "name": "python3"
  },
  "language_info": {
   "codemirror_mode": {
    "name": "ipython",
    "version": 3
   },
   "file_extension": ".py",
   "mimetype": "text/x-python",
   "name": "python",
   "nbconvert_exporter": "python",
   "pygments_lexer": "ipython3",
   "version": "3.12.8"
  }
 },
 "nbformat": 4,
 "nbformat_minor": 2
}
