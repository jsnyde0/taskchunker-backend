{
 "cells": [
  {
   "cell_type": "markdown",
   "metadata": {},
   "source": [
    "# Testing Agentic Planning with ControlFlow"
   ]
  },
  {
   "cell_type": "code",
   "execution_count": 1,
   "metadata": {},
   "outputs": [
    {
     "data": {
      "text/plain": [
       "True"
      ]
     },
     "execution_count": 1,
     "metadata": {},
     "output_type": "execute_result"
    }
   ],
   "source": [
    "from typing import List, Literal\n",
    "\n",
    "import controlflow as cf\n",
    "from dotenv import load_dotenv\n",
    "from pydantic import BaseModel, Field\n",
    "\n",
    "load_dotenv()"
   ]
  },
  {
   "cell_type": "markdown",
   "metadata": {},
   "source": [
    "## Multi-Agent Solution\n",
    "The flow we're eying atm would be this:\n",
    "```\n",
    "A: input P -> B [find Ps without NA children]\n",
    "B -> C{Any found?}\n",
    "C -> |yes| D[generate children for these Ps]\n",
    "D -> E[Classify new children as P or NA]\n",
    "E -> D\n",
    "C -> |no| F[Check if each P's direct children achieve its outcome]\n",
    "F -> |Incomplete Ps| D\n",
    "F -> |all complete| G[Final Task Tree]\n",
    "```\n",
    "\n",
    "But let's build towards this gradually.\n",
    "\n",
    "\n",
    "\n",
    "\n"
   ]
  },
  {
   "cell_type": "markdown",
   "metadata": {},
   "source": [
    "### V0.0.3 - add Task classification as Project or Next Action"
   ]
  },
  {
   "cell_type": "code",
   "execution_count": 6,
   "metadata": {},
   "outputs": [],
   "source": [
    "class TaskNode(BaseModel):\n",
    "    id: str = Field(description=\"Unique identifier for the task\")\n",
    "    title: str = Field(description=\"Title/description of the task\")\n",
    "    type: Literal[\"project\", \"next_action\"] = Field(\n",
    "        description=\"Type of the task, either 'project' or 'next_action'\"\n",
    "    )\n",
    "    subtasks: List[\"TaskNode\"] = Field(default_factory=list)\n",
    "\n",
    "\n",
    "TaskNode.model_rebuild()\n",
    "\n",
    "\n",
    "# Result wrapper for ControlFlow\n",
    "class TaskResult(BaseModel):\n",
    "    task: TaskNode"
   ]
  },
  {
   "cell_type": "code",
   "execution_count": 8,
   "metadata": {},
   "outputs": [],
   "source": [
    "def print_task_nodes(task: TaskNode, indent: int = 0):\n",
    "    \"\"\"Print task tree recursively with nice formatting.\n",
    "\n",
    "    Args:\n",
    "        task: Task to print\n",
    "        indent: Current indentation level\n",
    "    \"\"\"\n",
    "    # Print current task with indentation\n",
    "    classification = \"P\" if task.type == \"project\" else \"NA\"\n",
    "    print(\"    \" * indent + f\"{task.id} - {classification} - {task.title}\")\n",
    "\n",
    "    # Recursively print subtasks\n",
    "    for subtask in task.subtasks:\n",
    "        print_task_nodes(subtask, indent + 1)"
   ]
  },
  {
   "cell_type": "code",
   "execution_count": 9,
   "metadata": {},
   "outputs": [
    {
     "data": {
      "application/vnd.jupyter.widget-view+json": {
       "model_id": "9511a41011c44e21b4ccec7ccfa85177",
       "version_major": 2,
       "version_minor": 0
      },
      "text/plain": [
       "Output()"
      ]
     },
     "metadata": {},
     "output_type": "display_data"
    },
    {
     "data": {
      "text/html": [
       "<pre style=\"white-space:pre;overflow-x:auto;line-height:normal;font-family:Menlo,'DejaVu Sans Mono',consolas,'Courier New',monospace\"></pre>\n"
      ],
      "text/plain": []
     },
     "metadata": {},
     "output_type": "display_data"
    },
    {
     "data": {
      "application/vnd.jupyter.widget-view+json": {
       "model_id": "c1228aaf6b9e4b60a14c65bdc1c64855",
       "version_major": 2,
       "version_minor": 0
      },
      "text/plain": [
       "Output()"
      ]
     },
     "metadata": {},
     "output_type": "display_data"
    },
    {
     "data": {
      "text/html": [
       "<pre style=\"white-space:pre;overflow-x:auto;line-height:normal;font-family:Menlo,'DejaVu Sans Mono',consolas,'Courier New',monospace\"></pre>\n"
      ],
      "text/plain": []
     },
     "metadata": {},
     "output_type": "display_data"
    },
    {
     "name": "stdout",
     "output_type": "stream",
     "text": [
      "id='1' title='Get a job as a genAI engineer' type='project' subtasks=[TaskNode(id='1a', title='Update resume with relevant skills and experiences', type='next_action', subtasks=[]), TaskNode(id='1b', title='Research job openings in the genAI field', type='next_action', subtasks=[]), TaskNode(id='1c', title='Prepare for technical interviews by practicing coding questions', type='next_action', subtasks=[]), TaskNode(id='1d', title='Network with industry professionals on LinkedIn', type='next_action', subtasks=[]), TaskNode(id='1e', title='Apply to selected job openings', type='next_action', subtasks=[])]\n"
     ]
    }
   ],
   "source": [
    "chunker_instructions = \"\"\"\n",
    "You are a Getting Things Done project management expert, specialized into\n",
    "subdividing big tasks into smaller ones.\n",
    "\"\"\"\n",
    "chunker = cf.Agent(\n",
    "    name=\"Project Chunker\",\n",
    "    model=\"openai/gpt-4o-mini\",\n",
    "    instructions=chunker_instructions,\n",
    ")\n",
    "\n",
    "classifier_instructions = \"\"\"\n",
    "You are a Getting Things Done expert at classifying tasks.\n",
    "\n",
    "A task should be classified as:\n",
    "- 'project' if it requires multiple next actions to complete\n",
    "- 'next_action' if it's a single, concrete actionable step that can be done in one go\n",
    "\n",
    "Example:\n",
    "- \"Get a job\" -> project (requires multiple steps)\n",
    "- \"Send email to recruiter\" -> next_action (single action)\n",
    "\"\"\"\n",
    "\n",
    "classifier = cf.Agent(\n",
    "    name=\"Task Classifier\",\n",
    "    model=\"openai/gpt-4o-mini\",\n",
    "    instructions=classifier_instructions,\n",
    ")\n",
    "\n",
    "\n",
    "@cf.flow\n",
    "def chunk_flow_v0_0_3(project: str):\n",
    "    # Initialize with root project\n",
    "    root_task_id = \"1\"\n",
    "    root_task = TaskNode(id=root_task_id, title=project, type=\"project\")\n",
    "\n",
    "    with cf.Task(\n",
    "        \"Generate hyrarchical task tree for this project, where each task is a \\\n",
    "            either a project or a next action\",\n",
    "        result_type=TaskResult,\n",
    "        agents=[chunker, classifier],\n",
    "    ) as main_task:\n",
    "        task_tree = cf.run(\n",
    "            \"\"\"\n",
    "            Break given task into subtasks.\n",
    "            Return a TaskResult containing a TaskNode with:\n",
    "            - The root task\n",
    "            - 3-5 subtasks in the subtasks list\n",
    "            Once you split the task into subtasks, mark this task as complete.\n",
    "            \"\"\",\n",
    "            context=dict(\n",
    "                task=root_task,\n",
    "            ),\n",
    "            agents=[chunker],\n",
    "            result_type=TaskResult,\n",
    "            tools=[main_task.get_success_tool()],\n",
    "        )\n",
    "\n",
    "        classified_tree = cf.run(\n",
    "            \"\"\"\n",
    "            Classify each subtask as either 'project' or 'next_action'.\n",
    "            Return the complete TaskResult with classifications added.\n",
    "            Once done, use the main task tool to mark the entire process as complete.\n",
    "            \"\"\",\n",
    "            context=dict(task_tree=task_tree),\n",
    "            agents=[classifier],\n",
    "            result_type=TaskResult,\n",
    "            tools=[main_task.get_success_tool()],\n",
    "        )\n",
    "\n",
    "        # tasks = TaskList(tasks=tasks.tasks + new_tasks.tasks)\n",
    "\n",
    "    return classified_tree.task\n",
    "\n",
    "\n",
    "tasks = chunk_flow_v0_0_3(\"Get a job as a genAI engineer\")\n",
    "\n",
    "print(tasks)"
   ]
  },
  {
   "cell_type": "code",
   "execution_count": 4,
   "metadata": {},
   "outputs": [],
   "source": []
  },
  {
   "cell_type": "code",
   "execution_count": 10,
   "metadata": {},
   "outputs": [
    {
     "name": "stdout",
     "output_type": "stream",
     "text": [
      "1 - P - Get a job as a genAI engineer\n",
      "    1a - NA - Update resume with relevant skills and experiences\n",
      "    1b - NA - Research job openings in the genAI field\n",
      "    1c - NA - Prepare for technical interviews by practicing coding questions\n",
      "    1d - NA - Network with industry professionals on LinkedIn\n",
      "    1e - NA - Apply to selected job openings\n"
     ]
    }
   ],
   "source": [
    "print_task_nodes(tasks)"
   ]
  }
 ],
 "metadata": {
  "kernelspec": {
   "display_name": ".venv-notebooks",
   "language": "python",
   "name": "python3"
  },
  "language_info": {
   "codemirror_mode": {
    "name": "ipython",
    "version": 3
   },
   "file_extension": ".py",
   "mimetype": "text/x-python",
   "name": "python",
   "nbconvert_exporter": "python",
   "pygments_lexer": "ipython3",
   "version": "3.12.8"
  }
 },
 "nbformat": 4,
 "nbformat_minor": 2
}
