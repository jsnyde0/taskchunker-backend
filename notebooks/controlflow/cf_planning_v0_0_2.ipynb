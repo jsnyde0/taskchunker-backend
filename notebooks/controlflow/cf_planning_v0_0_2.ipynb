{
 "cells": [
  {
   "cell_type": "markdown",
   "metadata": {},
   "source": [
    "# Testing Agentic Planning with ControlFlow"
   ]
  },
  {
   "cell_type": "code",
   "execution_count": 1,
   "metadata": {},
   "outputs": [
    {
     "data": {
      "text/plain": [
       "True"
      ]
     },
     "execution_count": 1,
     "metadata": {},
     "output_type": "execute_result"
    }
   ],
   "source": [
    "from datetime import datetime\n",
    "from typing import List, Optional\n",
    "\n",
    "import controlflow as cf\n",
    "from dotenv import load_dotenv\n",
    "from pydantic import BaseModel, Field\n",
    "\n",
    "load_dotenv()"
   ]
  },
  {
   "cell_type": "code",
   "execution_count": 2,
   "metadata": {},
   "outputs": [
    {
     "data": {
      "application/vnd.jupyter.widget-view+json": {
       "model_id": "93dc0300acc248afa79ba1777f1bfb50",
       "version_major": 2,
       "version_minor": 0
      },
      "text/plain": [
       "Output()"
      ]
     },
     "metadata": {},
     "output_type": "display_data"
    },
    {
     "data": {
      "text/html": [
       "<pre style=\"white-space:pre;overflow-x:auto;line-height:normal;font-family:Menlo,'DejaVu Sans Mono',consolas,'Courier New',monospace\"></pre>\n"
      ],
      "text/plain": []
     },
     "metadata": {},
     "output_type": "display_data"
    },
    {
     "name": "stdout",
     "output_type": "stream",
     "text": [
      "1. **Research and Study GenAI**:\n",
      "    - Understand what generative AI (genAI) encompasses.\n",
      "    - Identify key skills and concepts required for a GenAI engineer.\n",
      "\n",
      "2. **Skill Acquisition**:\n",
      "    - Learn programming languages commonly used in AI, such as Python.\n",
      "    - Study machine learning and deep learning fundamentals.\n",
      "    - Gain expertise in frameworks like TensorFlow and PyTorch.\n",
      "    - Develop understanding in AI model development and deployment.\n",
      "\n",
      "3. **Build a Portfolio**:\n",
      "    - Work on GenAI projects or simulations, such as creating generative models or AI tools.\n",
      "    - Document projects, detailing the problem-solving process and outcomes.\n",
      "    - Publish projects on platforms like GitHub for visibility.\n",
      "\n",
      "4. **Networking and Community Involvement**:\n",
      "    - Join GenAI and AI-related meetups, forums, or online communities.\n",
      "    - Attend webinars, workshops, and conferences.\n",
      "    - Connect with current GenAI professionals on LinkedIn or other platforms.\n",
      "\n",
      "5. **Apply for Jobs**:\n",
      "    - Update resume to highlight relevant skills and projects.\n",
      "    - Tailor cover letters for GenAI positions.\n",
      "    - Apply for entry-level and internships in genAI roles or companies.\n",
      "\n",
      "6. **Prepare for Interviews**:\n",
      "    - Practice common interview questions for GenAI roles.\n",
      "    - Develop a thorough understanding of previous projects.\n",
      "    - Prepare to demonstrate problem-solving abilities in technical assessments or tests.\n"
     ]
    }
   ],
   "source": [
    "reply = cf.run(\n",
    "    \"Chunk a project into smaller tasks\",\n",
    "    context=dict(project=\"Get a job as a genAI engineer\"),\n",
    ")\n",
    "\n",
    "print(reply)"
   ]
  },
  {
   "cell_type": "code",
   "execution_count": 3,
   "metadata": {},
   "outputs": [
    {
     "data": {
      "application/vnd.jupyter.widget-view+json": {
       "model_id": "9479a209aa4a46f78fec458f2a7bea0b",
       "version_major": 2,
       "version_minor": 0
      },
      "text/plain": [
       "Output()"
      ]
     },
     "metadata": {},
     "output_type": "display_data"
    },
    {
     "data": {
      "text/html": [
       "<pre style=\"white-space:pre;overflow-x:auto;line-height:normal;font-family:Menlo,'DejaVu Sans Mono',consolas,'Courier New',monospace\"></pre>\n"
      ],
      "text/plain": []
     },
     "metadata": {},
     "output_type": "display_data"
    },
    {
     "name": "stdout",
     "output_type": "stream",
     "text": [
      "1. Update resume\n",
      "   1.1 Gather current job experiences\n",
      "   1.2 Update skills and educational background\n",
      "   1.3 Tailor resume for GenAI roles\n",
      "   1.4 Format and proofread resume\n",
      "2. Build portfolio\n",
      "   2.1 Identify projects relevant to GenAI\n",
      "   2.2 Create or refine case studies\n",
      "   2.3 Upload projects to a personal website or GitHub\n",
      "3. Networking\n",
      "   3.1 Join GenAI communities online\n",
      "   3.2 Attend industry conferences and meetups\n",
      "   3.3 Reach out to professionals in the field\n",
      "4. Job applications\n",
      "   4.1 Search for job openings\n",
      "   4.2 Apply to positions with tailored resumes\n",
      "   4.3 Follow up on applications\n",
      "5. Prepare for interviews\n",
      "   5.1 Research common interview questions in GenAI\n",
      "   5.2 Conduct mock interviews\n",
      "   5.3 Develop a personal pitch for interviews\n"
     ]
    }
   ],
   "source": [
    "# Create a specialized agent\n",
    "chunker = cf.Agent(\n",
    "    name=\"Project Chunker\",\n",
    "    model=\"openai/gpt-4o-mini\",\n",
    "    instructions=\"You are a project planning expert using the Getting Things Done \\\n",
    "        (GTD) methodology. When given a project or task, chunk it down into a \\\n",
    "        hierarchical tree of subtasks.\",\n",
    ")\n",
    "\n",
    "\n",
    "# Set up a ControlFlow task to classify emails\n",
    "tasks = cf.run(\n",
    "    \"Chunk the project into a hierarchical task tree\",\n",
    "    # result_type=TaskList,\n",
    "    agents=[chunker],\n",
    "    context=dict(project=\"Get a job as a genAI engineer\"),\n",
    ")\n",
    "\n",
    "print(tasks)"
   ]
  },
  {
   "cell_type": "code",
   "execution_count": 4,
   "metadata": {},
   "outputs": [
    {
     "data": {
      "application/vnd.jupyter.widget-view+json": {
       "model_id": "b544ef9daf0843098901dccf57e1a391",
       "version_major": 2,
       "version_minor": 0
      },
      "text/plain": [
       "Output()"
      ]
     },
     "metadata": {},
     "output_type": "display_data"
    },
    {
     "data": {
      "text/html": [
       "<pre style=\"white-space:pre;overflow-x:auto;line-height:normal;font-family:Menlo,'DejaVu Sans Mono',consolas,'Courier New',monospace\"></pre>\n"
      ],
      "text/plain": []
     },
     "metadata": {},
     "output_type": "display_data"
    },
    {
     "name": "stdout",
     "output_type": "stream",
     "text": [
      "tasks=[ChunkedTask(id='1', parent_id=None, title='Get a job as a genAI engineer', created_at=datetime.datetime(2025, 2, 12, 16, 14, 47, 462087)), ChunkedTask(id='1.1', parent_id='1', title='Update resume', created_at=datetime.datetime(2025, 2, 12, 16, 14, 47, 462087)), ChunkedTask(id='1.1.1', parent_id='1.1', title='Review current resume', created_at=datetime.datetime(2025, 2, 12, 16, 14, 47, 462087)), ChunkedTask(id='1.1.2', parent_id='1.1', title='Add relevant projects and experiences', created_at=datetime.datetime(2025, 2, 12, 16, 14, 47, 462087)), ChunkedTask(id='1.1.3', parent_id='1.1', title='Tailor resume for specific job applications', created_at=datetime.datetime(2025, 2, 12, 16, 14, 47, 462087)), ChunkedTask(id='1.2', parent_id='1', title='Build portfolio', created_at=datetime.datetime(2025, 2, 12, 16, 14, 47, 462087)), ChunkedTask(id='1.2.1', parent_id='1.2', title='Select projects to showcase', created_at=datetime.datetime(2025, 2, 12, 16, 14, 47, 462087)), ChunkedTask(id='1.2.2', parent_id='1.2', title='Create project descriptions', created_at=datetime.datetime(2025, 2, 12, 16, 14, 47, 462087)), ChunkedTask(id='1.2.3', parent_id='1.2', title='Design portfolio website', created_at=datetime.datetime(2025, 2, 12, 16, 14, 47, 462087)), ChunkedTask(id='1.3', parent_id='1', title='Networking', created_at=datetime.datetime(2025, 2, 12, 16, 14, 47, 462087)), ChunkedTask(id='1.3.1', parent_id='1.3', title='Connect with professionals in the field', created_at=datetime.datetime(2025, 2, 12, 16, 14, 47, 462087)), ChunkedTask(id='1.3.2', parent_id='1.3', title='Attend industry events', created_at=datetime.datetime(2025, 2, 12, 16, 14, 47, 462087)), ChunkedTask(id='1.3.3', parent_id='1.3', title='Join relevant online communities', created_at=datetime.datetime(2025, 2, 12, 16, 14, 47, 462087)), ChunkedTask(id='1.4', parent_id='1', title='Apply for jobs', created_at=datetime.datetime(2025, 2, 12, 16, 14, 47, 462087)), ChunkedTask(id='1.4.1', parent_id='1.4', title='Identify job openings', created_at=datetime.datetime(2025, 2, 12, 16, 14, 47, 462087)), ChunkedTask(id='1.4.2', parent_id='1.4', title='Submit applications', created_at=datetime.datetime(2025, 2, 12, 16, 14, 47, 462087)), ChunkedTask(id='1.4.3', parent_id='1.4', title='Prepare for interviews', created_at=datetime.datetime(2025, 2, 12, 16, 14, 47, 462087)), ChunkedTask(id='1.5', parent_id='1', title='Follow up', created_at=datetime.datetime(2025, 2, 12, 16, 14, 47, 462087)), ChunkedTask(id='1.5.1', parent_id='1.5', title='Check application status', created_at=datetime.datetime(2025, 2, 12, 16, 14, 47, 462087)), ChunkedTask(id='1.5.2', parent_id='1.5', title='Reach out to contacts for updates', created_at=datetime.datetime(2025, 2, 12, 16, 14, 47, 462087)), ChunkedTask(id='1.5.3', parent_id='1.5', title='Thank interviewers', created_at=datetime.datetime(2025, 2, 12, 16, 14, 47, 462087))]\n"
     ]
    }
   ],
   "source": [
    "# Create a specialized agent\n",
    "chunker = cf.Agent(\n",
    "    name=\"Project Chunker\",\n",
    "    model=\"openai/gpt-4o-mini\",\n",
    "    instructions=\"You are a project planning expert using the Getting Things Done \\\n",
    "        (GTD) methodology. When given a project or task, chunk it down into a \\\n",
    "        hierarchical tree of subtasks.\",\n",
    ")\n",
    "\n",
    "\n",
    "class ChunkedTask(BaseModel):\n",
    "    id: str = Field(description=\"Unique identifier for the task\")\n",
    "    parent_id: Optional[str] = Field(\n",
    "        None, description=\"ID of parent task, null if root\"\n",
    "    )\n",
    "    title: str = Field(description=\"Title that captures the task's action/outcome\")\n",
    "    created_at: datetime = Field(default_factory=datetime.utcnow)\n",
    "\n",
    "\n",
    "class TaskList(BaseModel):\n",
    "    tasks: List[\"ChunkedTask\"] = Field(default_factory=list)\n",
    "\n",
    "\n",
    "# Set up a ControlFlow task to classify emails\n",
    "chunk_task = cf.Task(\n",
    "    objective=\"Chunk the project into a hierarchical task tree\",\n",
    "    result_type=TaskList,\n",
    "    agents=[chunker],\n",
    "    context=dict(project=\"Get a job as a genAI engineer\"),\n",
    ")\n",
    "\n",
    "tasks = chunk_task.run()\n",
    "\n",
    "print(tasks)"
   ]
  },
  {
   "cell_type": "markdown",
   "metadata": {},
   "source": [
    "## Multi-Agent Solution\n",
    "The flow we're eying atm would be this:\n",
    "```\n",
    "A: input P -> B [find Ps without NA children]\n",
    "B -> C{Any found?}\n",
    "C -> |yes| D[generate children for these Ps]\n",
    "D -> E[Classify new children as P or NA]\n",
    "E -> D\n",
    "C -> |no| F[Check if each P's direct children achieve its outcome]\n",
    "F -> |Incomplete Ps| D\n",
    "F -> |all complete| G[Final Task Tree]\n",
    "```\n",
    "\n",
    "But let's build towards this gradually.\n",
    "\n",
    "\n",
    "\n",
    "\n"
   ]
  },
  {
   "cell_type": "code",
   "execution_count": 5,
   "metadata": {},
   "outputs": [],
   "source": [
    "def print_task_tree(tasks: TaskList, parent_id: str = \"1\", indent: int = 0):\n",
    "    \"\"\"Print tasks in a hierarchical tree format.\n",
    "\n",
    "    Args:\n",
    "        tasks: TaskList containing all tasks\n",
    "        parent_id: ID of parent task to start from (defaults to \"1\")\n",
    "        indent: Current indentation level\n",
    "    \"\"\"\n",
    "    # Find tasks with this parent\n",
    "    current_level = [t for t in tasks.tasks if t.parent_id == parent_id]\n",
    "\n",
    "    # Print each task at this level\n",
    "    for task in current_level:\n",
    "        print(\"    \" * indent + f\"- {task.title}\")\n",
    "        print_task_tree(tasks, task.id, indent + 1)"
   ]
  },
  {
   "cell_type": "markdown",
   "metadata": {},
   "source": [
    "### V0.1.1 - 1 agent and 1 task to chunk a project"
   ]
  },
  {
   "cell_type": "code",
   "execution_count": 6,
   "metadata": {},
   "outputs": [],
   "source": [
    "class TaskPNA(BaseModel):\n",
    "    id: str = Field(description=\"unique identifier for the task\")\n",
    "    title: str = Field(description=\"A short title/description of the task\")\n",
    "    parent_id: Optional[str] = Field(\n",
    "        None, description=\"ID of this task's parent task, null if root\"\n",
    "    )\n",
    "\n",
    "\n",
    "class TaskList(BaseModel):\n",
    "    tasks: List[TaskPNA] = Field(default_factory=list)"
   ]
  },
  {
   "cell_type": "code",
   "execution_count": 7,
   "metadata": {},
   "outputs": [
    {
     "data": {
      "application/vnd.jupyter.widget-view+json": {
       "model_id": "e8e0050a90a44dad9a5b68be363eb343",
       "version_major": 2,
       "version_minor": 0
      },
      "text/plain": [
       "Output()"
      ]
     },
     "metadata": {},
     "output_type": "display_data"
    },
    {
     "data": {
      "text/html": [
       "<pre style=\"white-space:pre;overflow-x:auto;line-height:normal;font-family:Menlo,'DejaVu Sans Mono',consolas,'Courier New',monospace\"></pre>\n"
      ],
      "text/plain": []
     },
     "metadata": {},
     "output_type": "display_data"
    },
    {
     "name": "stdout",
     "output_type": "stream",
     "text": [
      "tasks=[TaskPNA(id='1', title='Get a job as a genAI engineer', parent_id=None), TaskPNA(id='1.1', title='Update resume to highlight GenAI skills', parent_id='1'), TaskPNA(id='1.2', title='Research job openings related to GenAI engineering', parent_id='1'), TaskPNA(id='1.3', title='Prepare for interviews by practicing common questions', parent_id='1'), TaskPNA(id='1.4', title='Network with professionals in the GenAI field', parent_id='1')]\n"
     ]
    }
   ],
   "source": [
    "# Create a specialized agent\n",
    "chunker_instructions = \"\"\"\n",
    "You are a Getting Things Done project management expert, specialized into\n",
    "subdividing big tasks into smaller ones.\n",
    "\"\"\"\n",
    "chunker = cf.Agent(\n",
    "    name=\"Project Chunker\",\n",
    "    model=\"openai/gpt-4o-mini\",\n",
    "    instructions=chunker_instructions,\n",
    ")\n",
    "\n",
    "\n",
    "@cf.flow\n",
    "def chunk_flow_v0_1_1(project: str):\n",
    "    # Initialize with root project\n",
    "    root_task_id = \"1\"\n",
    "    tasks = TaskList(tasks=[TaskPNA(id=root_task_id, title=project, parent_id=None)])\n",
    "\n",
    "    with cf.Task(\n",
    "        \"Generate hyrarchical task tree for this project\",\n",
    "        result_type=TaskList,\n",
    "        agents=[chunker],\n",
    "    ) as main_task:\n",
    "        new_tasks = cf.run(\n",
    "            \"\"\"\n",
    "            Break given task (with id {task_id}) into subtasks.\n",
    "            Ensure that any subtask saves the task_id of its parent task as its\n",
    "            parent_id.\n",
    "            Once you split the task into subtasks, mark this task as complete and\n",
    "            use the main task tool to mark that as complete.\n",
    "            \"\"\",\n",
    "            context=dict(\n",
    "                task_id=root_task_id,\n",
    "                tasks=tasks,\n",
    "            ),\n",
    "            agents=[chunker],\n",
    "            result_type=TaskList,\n",
    "            tools=[main_task.get_success_tool()],\n",
    "        )\n",
    "\n",
    "        tasks = TaskList(tasks=tasks.tasks + new_tasks.tasks)\n",
    "\n",
    "    return tasks\n",
    "\n",
    "\n",
    "tasks = chunk_flow_v0_1_1(\"Get a job as a genAI engineer\")\n",
    "\n",
    "print(tasks)"
   ]
  },
  {
   "cell_type": "code",
   "execution_count": 8,
   "metadata": {},
   "outputs": [
    {
     "name": "stdout",
     "output_type": "stream",
     "text": [
      "tasks=[TaskPNA(id='1', title='Get a job as a genAI engineer', parent_id=None), TaskPNA(id='1.1', title='Update resume to highlight GenAI skills', parent_id='1'), TaskPNA(id='1.2', title='Research job openings related to GenAI engineering', parent_id='1'), TaskPNA(id='1.3', title='Prepare for interviews by practicing common questions', parent_id='1'), TaskPNA(id='1.4', title='Network with professionals in the GenAI field', parent_id='1')]\n"
     ]
    }
   ],
   "source": [
    "print(tasks)"
   ]
  },
  {
   "cell_type": "code",
   "execution_count": 9,
   "metadata": {},
   "outputs": [
    {
     "name": "stdout",
     "output_type": "stream",
     "text": [
      "['1: Get a job as a genAI engineer (parent: None)', '1.1: Update resume to highlight GenAI skills (parent: 1)', '1.2: Research job openings related to GenAI engineering (parent: 1)', '1.3: Prepare for interviews by practicing common questions (parent: 1)', '1.4: Network with professionals in the GenAI field (parent: 1)']\n"
     ]
    }
   ],
   "source": [
    "print([f\"{t.id}: {t.title} (parent: {t.parent_id})\" for t in tasks.tasks])"
   ]
  },
  {
   "cell_type": "code",
   "execution_count": 10,
   "metadata": {},
   "outputs": [
    {
     "name": "stdout",
     "output_type": "stream",
     "text": [
      "- Update resume to highlight GenAI skills\n",
      "- Research job openings related to GenAI engineering\n",
      "- Prepare for interviews by practicing common questions\n",
      "- Network with professionals in the GenAI field\n"
     ]
    }
   ],
   "source": [
    "print_task_tree(tasks)"
   ]
  },
  {
   "cell_type": "markdown",
   "metadata": {},
   "source": [
    "### V0.1.2 - converting task list to tree of nodes"
   ]
  },
  {
   "cell_type": "code",
   "execution_count": 11,
   "metadata": {},
   "outputs": [],
   "source": [
    "class TaskNode(BaseModel):\n",
    "    id: str = Field(description=\"Unique identifier for the task\")\n",
    "    title: str = Field(description=\"Title/description of the task\")\n",
    "    subtasks: List[\"TaskNode\"] = Field(default_factory=list)\n",
    "\n",
    "\n",
    "TaskNode.model_rebuild()\n",
    "\n",
    "\n",
    "# Result wrapper for ControlFlow\n",
    "class TaskResult(BaseModel):\n",
    "    task: TaskNode"
   ]
  },
  {
   "cell_type": "code",
   "execution_count": 12,
   "metadata": {},
   "outputs": [
    {
     "data": {
      "application/vnd.jupyter.widget-view+json": {
       "model_id": "65934c3393054c339b392c11eb7d0ce4",
       "version_major": 2,
       "version_minor": 0
      },
      "text/plain": [
       "Output()"
      ]
     },
     "metadata": {},
     "output_type": "display_data"
    },
    {
     "data": {
      "text/html": [
       "<pre style=\"white-space:pre;overflow-x:auto;line-height:normal;font-family:Menlo,'DejaVu Sans Mono',consolas,'Courier New',monospace\"></pre>\n"
      ],
      "text/plain": []
     },
     "metadata": {},
     "output_type": "display_data"
    },
    {
     "name": "stdout",
     "output_type": "stream",
     "text": [
      "id='1' title='Get a job as a genAI engineer' subtasks=[TaskNode(id='1.1', title='Update resume and portfolio', subtasks=[]), TaskNode(id='1.2', title='Research job openings in AI engineering', subtasks=[]), TaskNode(id='1.3', title='Prepare for common interview questions', subtasks=[]), TaskNode(id='1.4', title='Network with professionals in the industry', subtasks=[]), TaskNode(id='1.5', title='Apply to selected job openings', subtasks=[])]\n"
     ]
    }
   ],
   "source": [
    "chunker_instructions = \"\"\"\n",
    "You are a Getting Things Done project management expert, specialized into\n",
    "subdividing big tasks into smaller ones.\n",
    "\"\"\"\n",
    "chunker = cf.Agent(\n",
    "    name=\"Project Chunker\",\n",
    "    model=\"openai/gpt-4o-mini\",\n",
    "    instructions=chunker_instructions,\n",
    ")\n",
    "\n",
    "\n",
    "@cf.flow\n",
    "def chunk_flow_v0_1_2(project: str):\n",
    "    # Initialize with root project\n",
    "    root_task_id = \"1\"\n",
    "    root_task = TaskNode(id=root_task_id, title=project)\n",
    "\n",
    "    with cf.Task(\n",
    "        \"Generate hyrarchical task tree for this project\",\n",
    "        result_type=TaskResult,\n",
    "        agents=[chunker],\n",
    "    ) as main_task:\n",
    "        new_tasks = cf.run(\n",
    "            \"\"\"\n",
    "            Break given task into subtasks.\n",
    "            Return a TaskResult containing a TaskNode with:\n",
    "            - The root task\n",
    "            - 3-5 subtasks in the subtasks list\n",
    "            Once you split the task into subtasks, mark this task as complete and\n",
    "            use the main task tool to mark that as complete.\n",
    "            \"\"\",\n",
    "            context=dict(\n",
    "                task=root_task,\n",
    "            ),\n",
    "            agents=[chunker],\n",
    "            result_type=TaskResult,\n",
    "            tools=[main_task.get_success_tool()],\n",
    "        )\n",
    "\n",
    "        # tasks = TaskList(tasks=tasks.tasks + new_tasks.tasks)\n",
    "\n",
    "    return new_tasks.task\n",
    "\n",
    "\n",
    "tasks = chunk_flow_v0_1_2(\"Get a job as a genAI engineer\")\n",
    "\n",
    "print(tasks)"
   ]
  },
  {
   "cell_type": "code",
   "execution_count": 19,
   "metadata": {},
   "outputs": [],
   "source": [
    "def print_task_nodes(task: TaskNode, indent: int = 0):\n",
    "    \"\"\"Print task tree recursively with nice formatting.\n",
    "\n",
    "    Args:\n",
    "        task: Task to print\n",
    "        indent: Current indentation level\n",
    "    \"\"\"\n",
    "    # Print current task with indentation\n",
    "    print(\"    \" * indent + f\"{task.id} {task.title}\")\n",
    "\n",
    "    # Recursively print subtasks\n",
    "    for subtask in task.subtasks:\n",
    "        print_task_nodes(subtask, indent + 1)"
   ]
  },
  {
   "cell_type": "code",
   "execution_count": 20,
   "metadata": {},
   "outputs": [
    {
     "name": "stdout",
     "output_type": "stream",
     "text": [
      "1 Get a job as a genAI engineer\n",
      "    1.1 Update resume and portfolio\n",
      "    1.2 Research job openings in AI engineering\n",
      "    1.3 Prepare for common interview questions\n",
      "    1.4 Network with professionals in the industry\n",
      "    1.5 Apply to selected job openings\n"
     ]
    }
   ],
   "source": [
    "print_task_nodes(tasks)"
   ]
  }
 ],
 "metadata": {
  "kernelspec": {
   "display_name": ".venv-notebooks",
   "language": "python",
   "name": "python3"
  },
  "language_info": {
   "codemirror_mode": {
    "name": "ipython",
    "version": 3
   },
   "file_extension": ".py",
   "mimetype": "text/x-python",
   "name": "python",
   "nbconvert_exporter": "python",
   "pygments_lexer": "ipython3",
   "version": "3.12.8"
  }
 },
 "nbformat": 4,
 "nbformat_minor": 2
}
