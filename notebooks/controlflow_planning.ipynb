{
 "cells": [
  {
   "cell_type": "markdown",
   "metadata": {},
   "source": [
    "# Testing Agentic Planning with ControlFlow"
   ]
  },
  {
   "cell_type": "code",
   "execution_count": 2,
   "metadata": {},
   "outputs": [
    {
     "data": {
      "text/plain": [
       "True"
      ]
     },
     "execution_count": 2,
     "metadata": {},
     "output_type": "execute_result"
    }
   ],
   "source": [
    "from datetime import datetime\n",
    "from typing import List, Literal, Optional\n",
    "\n",
    "import controlflow as cf\n",
    "from dotenv import load_dotenv\n",
    "from pydantic import BaseModel, Field\n",
    "\n",
    "load_dotenv()"
   ]
  },
  {
   "cell_type": "code",
   "execution_count": 3,
   "metadata": {},
   "outputs": [
    {
     "data": {
      "application/vnd.jupyter.widget-view+json": {
       "model_id": "d65aca6c510249d8b0639e641872d6a7",
       "version_major": 2,
       "version_minor": 0
      },
      "text/plain": [
       "Output()"
      ]
     },
     "metadata": {},
     "output_type": "display_data"
    },
    {
     "data": {
      "text/html": [
       "<pre style=\"white-space:pre;overflow-x:auto;line-height:normal;font-family:Menlo,'DejaVu Sans Mono',consolas,'Courier New',monospace\"></pre>\n"
      ],
      "text/plain": []
     },
     "metadata": {},
     "output_type": "display_data"
    },
    {
     "name": "stdout",
     "output_type": "stream",
     "text": [
      "1. Research GenAI Industry Roles: \\n   a. Understand different positions available for GenAI engineers.\\n   b. Note required skills and qualifications.\\n   c. Identify key companies and sectors hiring GenAI engineers.\\n\\n2. Skills Development: \\n   a. Learn essential programming languages (e.g., Python, Java).\\n   b. Gain proficiency in AI frameworks and tools (e.g., TensorFlow, PyTorch).\\n   c. Understand machine learning algorithms and data analysis.\\n   d. Build a portfolio of projects to showcase skills.\\n\\n3. Networking and Professional Development: \\n   a. Join relevant industry groups and forums.\\n   b. Attend conferences, webinars, and workshops.\\n   c. Connect with professionals and mentors in the field.\\n   d. Build a strong LinkedIn profile.\\n\\n4. Application Process: \\n   a. Tailor resume and cover letters for GenAI roles.\\n   b. Prepare for technical interviews and coding assessments.\\n   c. Research and apply for open positions.\\n   d. Follow up with applications and interviews.\\n\\n5. Continuous Learning and Adaptation: \\n   a. Stay updated with emerging GenAI trends and technologies.\\n   b. Pursue relevant certifications and courses.\\n   c. Solicit feedback and work on improving skills.\\n\\n6. Evaluate and Adapt Strategies: \\n   a. Reflect on job search progress.\\n   b. Adjust strategies based on feedback and results.\\n   c. Celebrate small wins and stay motivated.\n"
     ]
    }
   ],
   "source": [
    "reply = cf.run(\n",
    "    \"Chunk a project into smaller tasks\",\n",
    "    context=dict(project=\"Get a job as a genAI engineer\"),\n",
    ")\n",
    "\n",
    "print(reply)"
   ]
  },
  {
   "cell_type": "code",
   "execution_count": 4,
   "metadata": {},
   "outputs": [
    {
     "data": {
      "application/vnd.jupyter.widget-view+json": {
       "model_id": "121bfc1306f244c58db93b1b0edd1577",
       "version_major": 2,
       "version_minor": 0
      },
      "text/plain": [
       "Output()"
      ]
     },
     "metadata": {},
     "output_type": "display_data"
    },
    {
     "data": {
      "text/html": [
       "<pre style=\"white-space:pre;overflow-x:auto;line-height:normal;font-family:Menlo,'DejaVu Sans Mono',consolas,'Courier New',monospace\"></pre>\n"
      ],
      "text/plain": []
     },
     "metadata": {},
     "output_type": "display_data"
    },
    {
     "name": "stdout",
     "output_type": "stream",
     "text": [
      "Get a job as a genAI engineer:  \n",
      "- Research the field of genAI  \n",
      "  - Understand the job market  \n",
      "  - Identify key companies hiring genAI engineers  \n",
      "  - Research job requirements and skills  \n",
      "- Build key skills  \n",
      "  - Take relevant online courses  \n",
      "  - Obtain certifications  \n",
      "  - Practice through projects and portfolio-building  \n",
      "- Update resume and LinkedIn profile  \n",
      "  - Tailor resume to highlight genAI skills  \n",
      "  - Update LinkedIn with new skills and experiences  \n",
      "- Apply for jobs  \n",
      "  - Create a list of target companies  \n",
      "  - Craft personalized cover letters  \n",
      "  - Submit applications  \n",
      "- Prepare for interviews  \n",
      "  - Practice common interview questions  \n",
      "  - Conduct mock interviews  \n",
      "- Network with professionals in the field  \n",
      "  - Attend industry conferences  \n",
      "  - Join genAI online communities  \n",
      "  - Connect with professionals on LinkedIn\n"
     ]
    }
   ],
   "source": [
    "# Create a specialized agent\n",
    "chunker = cf.Agent(\n",
    "    name=\"Project Chunker\",\n",
    "    model=\"openai/gpt-4o-mini\",\n",
    "    instructions=\"You are a project planning expert using the Getting Things Done \\\n",
    "        (GTD) methodology. When given a project or task, chunk it down into a \\\n",
    "        hierarchical tree of subtasks.\",\n",
    ")\n",
    "\n",
    "\n",
    "# Set up a ControlFlow task to classify emails\n",
    "tasks = cf.run(\n",
    "    \"Chunk the project into a hierarchical task tree\",\n",
    "    # result_type=TaskList,\n",
    "    agents=[chunker],\n",
    "    context=dict(project=\"Get a job as a genAI engineer\"),\n",
    ")\n",
    "\n",
    "print(tasks)"
   ]
  },
  {
   "cell_type": "code",
   "execution_count": 5,
   "metadata": {},
   "outputs": [
    {
     "data": {
      "application/vnd.jupyter.widget-view+json": {
       "model_id": "49e7dbbea7c84f3fb8d1fbaf6297239e",
       "version_major": 2,
       "version_minor": 0
      },
      "text/plain": [
       "Output()"
      ]
     },
     "metadata": {},
     "output_type": "display_data"
    },
    {
     "data": {
      "text/html": [
       "<pre style=\"white-space:pre;overflow-x:auto;line-height:normal;font-family:Menlo,'DejaVu Sans Mono',consolas,'Courier New',monospace\"></pre>\n"
      ],
      "text/plain": []
     },
     "metadata": {},
     "output_type": "display_data"
    },
    {
     "name": "stdout",
     "output_type": "stream",
     "text": [
      "tasks=[ChunkedTask(id='1', parent_id=None, title='Get a job as a genAI engineer', created_at=datetime.datetime(2025, 2, 12, 14, 33, 23, 479350)), ChunkedTask(id='1.1', parent_id='1', title='Update resume', created_at=datetime.datetime(2025, 2, 12, 14, 33, 23, 479350)), ChunkedTask(id='1.1.1', parent_id='1.1', title='List relevant skills and experiences', created_at=datetime.datetime(2025, 2, 12, 14, 33, 23, 479350)), ChunkedTask(id='1.1.2', parent_id='1.1', title='Format resume according to industry standards', created_at=datetime.datetime(2025, 2, 12, 14, 33, 23, 479350)), ChunkedTask(id='1.1.3', parent_id='1.1', title='Proofread and edit resume', created_at=datetime.datetime(2025, 2, 12, 14, 33, 23, 479350)), ChunkedTask(id='1.2', parent_id='1', title='Build portfolio', created_at=datetime.datetime(2025, 2, 12, 14, 33, 23, 479350)), ChunkedTask(id='1.2.1', parent_id='1.2', title='Select projects to showcase', created_at=datetime.datetime(2025, 2, 12, 14, 33, 23, 479350)), ChunkedTask(id='1.2.2', parent_id='1.2', title='Create case studies for each project', created_at=datetime.datetime(2025, 2, 12, 14, 33, 23, 479350)), ChunkedTask(id='1.2.3', parent_id='1.2', title='Design website to host portfolio', created_at=datetime.datetime(2025, 2, 12, 14, 33, 23, 479350)), ChunkedTask(id='1.3', parent_id='1', title='Expand professional network', created_at=datetime.datetime(2025, 2, 12, 14, 33, 23, 479350)), ChunkedTask(id='1.3.1', parent_id='1.3', title='Connect with industry professionals on LinkedIn', created_at=datetime.datetime(2025, 2, 12, 14, 33, 23, 479350)), ChunkedTask(id='1.3.2', parent_id='1.3', title='Attend industry conferences and workshops', created_at=datetime.datetime(2025, 2, 12, 14, 33, 23, 479350)), ChunkedTask(id='1.3.3', parent_id='1.3', title='Join relevant online forums and communities', created_at=datetime.datetime(2025, 2, 12, 14, 33, 23, 479350)), ChunkedTask(id='1.4', parent_id='1', title='Apply for jobs', created_at=datetime.datetime(2025, 2, 12, 14, 33, 23, 479350)), ChunkedTask(id='1.4.1', parent_id='1.4', title='Research job openings', created_at=datetime.datetime(2025, 2, 12, 14, 33, 23, 479350)), ChunkedTask(id='1.4.2', parent_id='1.4', title='Tailor applications for each position', created_at=datetime.datetime(2025, 2, 12, 14, 33, 23, 479350)), ChunkedTask(id='1.4.3', parent_id='1.4', title='Prepare for interviews', created_at=datetime.datetime(2025, 2, 12, 14, 33, 23, 479350))]\n"
     ]
    }
   ],
   "source": [
    "# Create a specialized agent\n",
    "chunker = cf.Agent(\n",
    "    name=\"Project Chunker\",\n",
    "    model=\"openai/gpt-4o-mini\",\n",
    "    instructions=\"You are a project planning expert using the Getting Things Done \\\n",
    "        (GTD) methodology. When given a project or task, chunk it down into a \\\n",
    "        hierarchical tree of subtasks.\",\n",
    ")\n",
    "\n",
    "\n",
    "class ChunkedTask(BaseModel):\n",
    "    id: str = Field(description=\"Unique identifier for the task\")\n",
    "    parent_id: Optional[str] = Field(\n",
    "        None, description=\"ID of parent task, null if root\"\n",
    "    )\n",
    "    title: str = Field(description=\"Title that captures the task's action/outcome\")\n",
    "    created_at: datetime = Field(default_factory=datetime.utcnow)\n",
    "\n",
    "\n",
    "class TaskList(BaseModel):\n",
    "    tasks: List[\"ChunkedTask\"] = Field(default_factory=list)\n",
    "\n",
    "\n",
    "# Set up a ControlFlow task to classify emails\n",
    "chunk_task = cf.Task(\n",
    "    objective=\"Chunk the project into a hierarchical task tree\",\n",
    "    result_type=TaskList,\n",
    "    agents=[chunker],\n",
    "    context=dict(project=\"Get a job as a genAI engineer\"),\n",
    ")\n",
    "\n",
    "tasks = chunk_task.run()\n",
    "\n",
    "print(tasks)"
   ]
  },
  {
   "cell_type": "markdown",
   "metadata": {},
   "source": [
    "## Multi-Agent Solution\n",
    "The flow we're eying atm would be this:\n",
    "```\n",
    "A: input P -> B [find Ps without NA children]\n",
    "B -> C{Any found?}\n",
    "C -> |yes| D[generate children for these Ps]\n",
    "D -> E[Classify new children as P or NA]\n",
    "E -> D\n",
    "C -> |no| F[Check if each P's direct children achieve its outcome]\n",
    "F -> |Incomplete Ps| D\n",
    "F -> |all complete| G[Final Task Tree]\n",
    "```\n",
    "\n",
    "But let's build towards this gradually.\n",
    "\n",
    "\n",
    "\n",
    "\n"
   ]
  },
  {
   "cell_type": "code",
   "execution_count": 42,
   "metadata": {},
   "outputs": [],
   "source": [
    "def print_task_tree(tasks: TaskList, parent_id: str = \"1\", indent: int = 0):\n",
    "    \"\"\"Print tasks in a hierarchical tree format.\n",
    "\n",
    "    Args:\n",
    "        tasks: TaskList containing all tasks\n",
    "        parent_id: ID of parent task to start from (defaults to \"1\")\n",
    "        indent: Current indentation level\n",
    "    \"\"\"\n",
    "    # Find tasks with this parent\n",
    "    current_level = [t for t in tasks.tasks if t.parent_id == parent_id]\n",
    "\n",
    "    # Print each task at this level\n",
    "    for task in current_level:\n",
    "        print(\"    \" * indent + f\"- {task.title}\")\n",
    "        print_task_tree(tasks, task.id, indent + 1)"
   ]
  },
  {
   "cell_type": "markdown",
   "metadata": {},
   "source": [
    "### V0.1 - 1 agent and 1 task to chunk a project"
   ]
  },
  {
   "cell_type": "code",
   "execution_count": 25,
   "metadata": {},
   "outputs": [],
   "source": [
    "class TaskPNA(BaseModel):\n",
    "    id: str = Field(description=\"unique identifier for the task\")\n",
    "    title: str = Field(description=\"A short title/description of the task\")\n",
    "    parent_id: Optional[str] = Field(\n",
    "        None, description=\"ID of this task's parent task, null if root\"\n",
    "    )\n",
    "\n",
    "\n",
    "class TaskList(BaseModel):\n",
    "    tasks: List[TaskPNA] = Field(default_factory=list)"
   ]
  },
  {
   "cell_type": "code",
   "execution_count": 53,
   "metadata": {},
   "outputs": [
    {
     "data": {
      "application/vnd.jupyter.widget-view+json": {
       "model_id": "195d604733d84840b50c830a3534d9c4",
       "version_major": 2,
       "version_minor": 0
      },
      "text/plain": [
       "Output()"
      ]
     },
     "metadata": {},
     "output_type": "display_data"
    },
    {
     "data": {
      "text/html": [
       "<pre style=\"white-space:pre;overflow-x:auto;line-height:normal;font-family:Menlo,'DejaVu Sans Mono',consolas,'Courier New',monospace\"></pre>\n"
      ],
      "text/plain": []
     },
     "metadata": {},
     "output_type": "display_data"
    },
    {
     "name": "stdout",
     "output_type": "stream",
     "text": [
      "tasks=[TaskPNA(id='1', title='Get a job as a genAI engineer', parent_id=None), TaskPNA(id='1.1', title='Update resume to include relevant experience', parent_id='90f226f7'), TaskPNA(id='1.2', title='Research companies hiring genAI engineers', parent_id='90f226f7'), TaskPNA(id='1.3', title='Prepare for technical interviews by practicing coding', parent_id='90f226f7'), TaskPNA(id='1.4', title='Apply for jobs by submitting applications online', parent_id='90f226f7'), TaskPNA(id='1.5', title='Network with professionals in the genAI field', parent_id='90f226f7')]\n"
     ]
    }
   ],
   "source": [
    "# Create a specialized agent\n",
    "chunker_instructions = \"\"\"\n",
    "You are a Getting Things Done project management expert, specialized into\n",
    "subdividing big tasks into smaller ones.\n",
    "\"\"\"\n",
    "chunker = cf.Agent(\n",
    "    name=\"Project Chunker\",\n",
    "    model=\"openai/gpt-4o-mini\",\n",
    "    instructions=chunker_instructions,\n",
    ")\n",
    "\n",
    "\n",
    "@cf.flow\n",
    "def chunk_flow_v0_1(project: str):\n",
    "    # Initialize with root project\n",
    "    root_task_id = \"1\"\n",
    "    tasks = TaskList(tasks=[TaskPNA(id=root_task_id, title=project, parent_id=None)])\n",
    "\n",
    "    with cf.Task(\n",
    "        \"Generate hyrarchical task tree for this project\",\n",
    "        result_type=TaskList,\n",
    "        agents=[chunker],\n",
    "    ) as main_task:\n",
    "        new_tasks = cf.run(\n",
    "            \"\"\"\n",
    "            Break given task (with id {task_id}) into subtasks.\n",
    "            Ensure that any subtask saves the task_id of its parent task as its\n",
    "            parent_id.\n",
    "            Once you split the task into subtasks, mark this task as complete and\n",
    "            use the main task tool to mark that as complete.\n",
    "            \"\"\",\n",
    "            context=dict(\n",
    "                task_id=root_task_id,\n",
    "                tasks=tasks,\n",
    "            ),\n",
    "            agents=[chunker],\n",
    "            result_type=TaskList,\n",
    "            tools=[main_task.get_success_tool()],\n",
    "        )\n",
    "\n",
    "        tasks = TaskList(tasks=tasks.tasks + new_tasks.tasks)\n",
    "\n",
    "    return tasks\n",
    "\n",
    "\n",
    "tasks = chunk_flow_v0_1(\"Get a job as a genAI engineer\")\n",
    "\n",
    "print(tasks)"
   ]
  },
  {
   "cell_type": "code",
   "execution_count": 51,
   "metadata": {},
   "outputs": [
    {
     "name": "stdout",
     "output_type": "stream",
     "text": [
      "tasks=[TaskPNA(id='1', title='Get a job as a genAI engineer', parent_id=None), TaskPNA(id='2', title='Update resume', parent_id='1'), TaskPNA(id='3', title='Prepare portfolio samples', parent_id='1'), TaskPNA(id='4', title='Apply to job postings', parent_id='1'), TaskPNA(id='5', title='Prepare for interviews', parent_id='1')]\n"
     ]
    }
   ],
   "source": [
    "print(tasks)"
   ]
  },
  {
   "cell_type": "code",
   "execution_count": 54,
   "metadata": {},
   "outputs": [
    {
     "name": "stdout",
     "output_type": "stream",
     "text": [
      "['1: Get a job as a genAI engineer (parent: None)', '1.1: Update resume to include relevant experience (parent: 90f226f7)', '1.2: Research companies hiring genAI engineers (parent: 90f226f7)', '1.3: Prepare for technical interviews by practicing coding (parent: 90f226f7)', '1.4: Apply for jobs by submitting applications online (parent: 90f226f7)', '1.5: Network with professionals in the genAI field (parent: 90f226f7)']\n"
     ]
    }
   ],
   "source": [
    "print([f\"{t.id}: {t.title} (parent: {t.parent_id})\" for t in tasks.tasks])"
   ]
  },
  {
   "cell_type": "code",
   "execution_count": 55,
   "metadata": {},
   "outputs": [],
   "source": [
    "print_task_tree(tasks)"
   ]
  },
  {
   "cell_type": "markdown",
   "metadata": {},
   "source": [
    "### V1.0 - multiple agents etc (WIP - not working)"
   ]
  },
  {
   "cell_type": "markdown",
   "metadata": {},
   "source": [
    "##### Set up data models, agents, and tasks"
   ]
  },
  {
   "cell_type": "code",
   "execution_count": 25,
   "metadata": {},
   "outputs": [],
   "source": [
    "class TaskPNA(BaseModel):\n",
    "    id: str\n",
    "    title: str = Field(\n",
    "        description=\"\"\"\n",
    "        For Projects: The desired outcome state (e.g., \"garage cleaned and organized\")\n",
    "        For Next Actions: The concrete action (e.g., \"sweep garage floor\")\n",
    "    \"\"\"\n",
    "    )\n",
    "    parent_id: Optional[str] = Field(None, description=\"parent task ID, null if root\")\n",
    "    classification: Optional[Literal[\"Project\", \"Next Action\"]] = Field(\n",
    "        None, description=\"Whether this task is a Project or Next Action\"\n",
    "    )\n",
    "\n",
    "\n",
    "class TaskList(BaseModel):\n",
    "    tasks: List[TaskPNA] = Field(default_factory=list)\n",
    "\n",
    "\n",
    "class TaskClassification(BaseModel):\n",
    "    task_id: str\n",
    "    classification: Literal[\"Project\", \"Next Action\"]\n",
    "\n",
    "\n",
    "# Agents\n",
    "chunker = cf.Agent(\n",
    "    name=\"Project Chunker\",\n",
    "    model=\"openai/gpt-4o-mini\",\n",
    "    instructions=\"\"\"You are a Getting Things Done expert, specialized in subdividing \n",
    "        Projects into Next Actions or sub-Projects.\n",
    "        \n",
    "        When describing a Project, always phrase it as a completed outcome state \n",
    "        (e.g., \"kitchen fully renovated\", \"report completed and approved\").\n",
    "        \n",
    "        When describing a Next Action, always phrase it as a concrete physical action \n",
    "        (e.g., \"call contractor at 555-0123\", \"draft first section of report\").\n",
    "        \n",
    "        Each task description should be clear enough that someone else could understand \n",
    "        exactly what needs to be done or what outcome needs to be achieved.\"\"\",\n",
    ")\n",
    "\n",
    "reviewer = cf.Agent(\n",
    "    name=\"Task Reviewer\",\n",
    "    model=\"openai/gpt-4o-mini\",\n",
    "    instructions=\"\"\"You are a Getting Things Done expert, categorizing tasks as either \n",
    "        Projects or Next Actions.\n",
    "        \n",
    "        A Next Action:\n",
    "        - Is a single, physical action\n",
    "        - Can be done in one sitting\n",
    "        - Has no prerequisites\n",
    "        - Uses an action verb\n",
    "        - Is very specific (e.g., \"email John about budget\" vs \"contact John\")\n",
    "        \n",
    "        A Project:\n",
    "        - Requires multiple actions to complete\n",
    "        - Is described as a completed outcome\n",
    "        - Uses past tense to describe the desired state\n",
    "        - Will likely need planning or coordination\"\"\",\n",
    ")\n",
    "\n",
    "completeness_checker = cf.Agent(\n",
    "    name=\"Completeness Checker\",\n",
    "    model=\"openai/gpt-4o-mini\",\n",
    "    instructions=\"\"\"You are a Getting Things Done expert, specialized in verifying if a \n",
    "        set of subtasks is sufficient to achieve their parent task's outcome.\n",
    "        \n",
    "        For each Project, evaluate if its direct children (both Next Actions and \n",
    "        sub-Projects) collectively will achieve the Project's stated outcome.\n",
    "        \n",
    "        Example:\n",
    "        Project: \"garage cleaned and organized\"\n",
    "        Subtasks:\n",
    "        1. \"remove items from garage\"\n",
    "        2. \"sort items into keep/donate piles\"\n",
    "        3. \"sweep garage floor\"\n",
    "        \n",
    "        This is incomplete because it's missing:\n",
    "        - Disposing of non-kept items\n",
    "        - Organizing kept items back into garage\n",
    "        - Potentially cleaning walls/surfaces\"\"\",\n",
    ")\n",
    "\n",
    "# Tasks\n",
    "chunk_task = cf.Task(\n",
    "    objective=\"Generate child tasks for the given Project\",\n",
    "    result_type=TaskList,\n",
    "    agents=[chunker],\n",
    ")\n",
    "\n",
    "review_task = cf.Task(\n",
    "    objective=\"Classify each unclassified task as either a Project or Next Action\",\n",
    "    result_type=TaskList,\n",
    "    agents=[reviewer],\n",
    ")\n",
    "\n",
    "completeness_task = cf.Task(\n",
    "    objective=\"Check if the Project's direct children will achieve its outcome \\\n",
    "        and return the IDs of incomplete Projects as a list of strings.\",\n",
    "    result_type=List[str],  # IDs of incomplete Projects\n",
    "    agents=[completeness_checker],\n",
    ")"
   ]
  },
  {
   "cell_type": "code",
   "execution_count": 26,
   "metadata": {},
   "outputs": [],
   "source": [
    "def find_projects_without_nas(tasks: TaskList) -> List[TaskPNA]:\n",
    "    \"\"\"Find all Projects that don't have any Next Action children.\n",
    "\n",
    "    Args:\n",
    "        tasks: TaskList containing all tasks\n",
    "\n",
    "    Returns:\n",
    "        List of Project tasks that have no Next Action children\n",
    "    \"\"\"\n",
    "    result = []\n",
    "\n",
    "    for task in tasks.tasks:\n",
    "        if task.classification != \"Project\":\n",
    "            continue\n",
    "\n",
    "        # Find all children of this task\n",
    "        children = [t for t in tasks.tasks if t.parent_id == task.id]\n",
    "        # Check if any children are Next Actions\n",
    "        na_children = [c for c in children if c.classification == \"Next Action\"]\n",
    "\n",
    "        if not na_children:\n",
    "            result.append(task)\n",
    "\n",
    "    return result"
   ]
  },
  {
   "cell_type": "markdown",
   "metadata": {},
   "source": [
    "#### Define the flow"
   ]
  },
  {
   "cell_type": "code",
   "execution_count": 29,
   "metadata": {},
   "outputs": [],
   "source": [
    "@cf.flow\n",
    "def chunking_flow(project: str):\n",
    "    # Initialize with root project\n",
    "    tasks = TaskList(tasks=[TaskPNA(id=\"1\", title=project, classification=\"Project\")])\n",
    "\n",
    "    with cf.Task(\n",
    "        \"Break down project into a complete task tree\",\n",
    "        result_type=TaskList,\n",
    "        agents=[chunker, reviewer, completeness_checker],\n",
    "    ) as main_task:\n",
    "        while main_task.is_incomplete():\n",
    "            # Find Ps without NA children\n",
    "            projects_without_nas = find_projects_without_nas(tasks)\n",
    "\n",
    "            if projects_without_nas:\n",
    "                # Generate and classify new tasks\n",
    "                cf.run(\n",
    "                    \"Generate children for projects without Next Actions\",\n",
    "                    context=dict(\n",
    "                        parent_tasks=projects_without_nas, existing_tasks=tasks\n",
    "                    ),\n",
    "                    agents=[chunker],\n",
    "                    result_type=TaskList,\n",
    "                )\n",
    "\n",
    "                cf.run(\n",
    "                    \"Classify new tasks\",\n",
    "                    context=dict(tasks=tasks),\n",
    "                    agents=[reviewer],\n",
    "                    result_type=TaskList,\n",
    "                )\n",
    "            else:\n",
    "                # Check completeness\n",
    "                cf.run(\n",
    "                    \"Check if all Projects are complete\",\n",
    "                    context=dict(tasks=tasks),\n",
    "                    agents=[completeness_checker],\n",
    "                    result_type=List[str],\n",
    "                )\n",
    "\n",
    "    return main_task.result"
   ]
  },
  {
   "cell_type": "code",
   "execution_count": 31,
   "metadata": {},
   "outputs": [
    {
     "data": {
      "application/vnd.jupyter.widget-view+json": {
       "model_id": "11323bbbb4054d56bf5c1a2cb902ad8e",
       "version_major": 2,
       "version_minor": 0
      },
      "text/plain": [
       "Output()"
      ]
     },
     "metadata": {},
     "output_type": "display_data"
    },
    {
     "data": {
      "text/html": [
       "<pre style=\"white-space:pre;overflow-x:auto;line-height:normal;font-family:Menlo,'DejaVu Sans Mono',consolas,'Courier New',monospace\"></pre>\n"
      ],
      "text/plain": []
     },
     "metadata": {},
     "output_type": "display_data"
    },
    {
     "data": {
      "application/vnd.jupyter.widget-view+json": {
       "model_id": "d218fc593a9c4ea2bd009a89225c2d9c",
       "version_major": 2,
       "version_minor": 0
      },
      "text/plain": [
       "Output()"
      ]
     },
     "metadata": {},
     "output_type": "display_data"
    },
    {
     "data": {
      "text/html": [
       "<pre style=\"white-space:pre;overflow-x:auto;line-height:normal;font-family:Menlo,'DejaVu Sans Mono',consolas,'Courier New',monospace\"></pre>\n"
      ],
      "text/plain": []
     },
     "metadata": {},
     "output_type": "display_data"
    },
    {
     "data": {
      "text/html": [
       "<pre style=\"white-space:pre;overflow-x:auto;line-height:normal;font-family:Menlo,'DejaVu Sans Mono',consolas,'Courier New',monospace\">13:04:26.601 | <span style=\"color: #d70000; text-decoration-color: #d70000\">ERROR</span>   | Flow run<span style=\"color: #800080; text-decoration-color: #800080\"> 'wisteria-porpoise'</span> - Encountered exception during execution: ValueError('1 task failed: - Task #775c16dd (\"Classify new tasks\"): No reasons for failure exist.')\n",
       "Traceback (most recent call last):\n",
       "  File \"c:\\Users\\jonat\\Documents\\code\\taskchunker-backend\\notebooks\\.venv-notebooks\\Lib\\site-packages\\prefect\\flow_engine.py\", line 764, in run_context\n",
       "    yield self\n",
       "  File \"c:\\Users\\jonat\\Documents\\code\\taskchunker-backend\\notebooks\\.venv-notebooks\\Lib\\site-packages\\prefect\\flow_engine.py\", line 1372, in run_flow_sync\n",
       "    engine.call_flow_fn()\n",
       "  File \"c:\\Users\\jonat\\Documents\\code\\taskchunker-backend\\notebooks\\.venv-notebooks\\Lib\\site-packages\\prefect\\flow_engine.py\", line 784, in call_flow_fn\n",
       "    result = call_with_parameters(self.flow.fn, self.parameters)\n",
       "             ^^^^^^^^^^^^^^^^^^^^^^^^^^^^^^^^^^^^^^^^^^^^^^^^^^^\n",
       "  File \"c:\\Users\\jonat\\Documents\\code\\taskchunker-backend\\notebooks\\.venv-notebooks\\Lib\\site-packages\\prefect\\utilities\\callables.py\", line 208, in call_with_parameters\n",
       "    return fn(*args, **kwargs)\n",
       "           ^^^^^^^^^^^^^^^^^^^\n",
       "  File \"c:\\Users\\jonat\\Documents\\code\\taskchunker-backend\\notebooks\\.venv-notebooks\\Lib\\site-packages\\controlflow\\decorators.py\", line 113, in wrapper\n",
       "    return fn(*wrapper_args, **wrapper_kwargs)\n",
       "           ^^^^^^^^^^^^^^^^^^^^^^^^^^^^^^^^^^^\n",
       "  File \"C:\\Users\\jonat\\AppData\\Local\\Temp\\ipykernel_16300\\3618565082.py\", line 34, in chunking_flow\n",
       "    cf.run(\n",
       "  File \"c:\\Users\\jonat\\Documents\\code\\taskchunker-backend\\notebooks\\.venv-notebooks\\Lib\\site-packages\\controlflow\\run.py\", line 147, in run\n",
       "    results = run_tasks(\n",
       "              ^^^^^^^^^^\n",
       "  File \"c:\\Users\\jonat\\Documents\\code\\taskchunker-backend\\notebooks\\.venv-notebooks\\Lib\\site-packages\\controlflow\\run.py\", line 59, in run_tasks\n",
       "    raise ValueError(\n",
       "ValueError: 1 task failed: - Task #775c16dd (\"Classify new tasks\"): No reasons for failure exist.\n",
       "</pre>\n"
      ],
      "text/plain": [
       "13:04:26.601 | \u001b[38;5;160mERROR\u001b[0m   | Flow run\u001b[35m 'wisteria-porpoise'\u001b[0m - Encountered exception during execution: ValueError('1 task failed: - Task #775c16dd (\"Classify new tasks\"): No reasons for failure exist.')\n",
       "Traceback (most recent call last):\n",
       "  File \"c:\\Users\\jonat\\Documents\\code\\taskchunker-backend\\notebooks\\.venv-notebooks\\Lib\\site-packages\\prefect\\flow_engine.py\", line 764, in run_context\n",
       "    yield self\n",
       "  File \"c:\\Users\\jonat\\Documents\\code\\taskchunker-backend\\notebooks\\.venv-notebooks\\Lib\\site-packages\\prefect\\flow_engine.py\", line 1372, in run_flow_sync\n",
       "    engine.call_flow_fn()\n",
       "  File \"c:\\Users\\jonat\\Documents\\code\\taskchunker-backend\\notebooks\\.venv-notebooks\\Lib\\site-packages\\prefect\\flow_engine.py\", line 784, in call_flow_fn\n",
       "    result = call_with_parameters(self.flow.fn, self.parameters)\n",
       "             ^^^^^^^^^^^^^^^^^^^^^^^^^^^^^^^^^^^^^^^^^^^^^^^^^^^\n",
       "  File \"c:\\Users\\jonat\\Documents\\code\\taskchunker-backend\\notebooks\\.venv-notebooks\\Lib\\site-packages\\prefect\\utilities\\callables.py\", line 208, in call_with_parameters\n",
       "    return fn(*args, **kwargs)\n",
       "           ^^^^^^^^^^^^^^^^^^^\n",
       "  File \"c:\\Users\\jonat\\Documents\\code\\taskchunker-backend\\notebooks\\.venv-notebooks\\Lib\\site-packages\\controlflow\\decorators.py\", line 113, in wrapper\n",
       "    return fn(*wrapper_args, **wrapper_kwargs)\n",
       "           ^^^^^^^^^^^^^^^^^^^^^^^^^^^^^^^^^^^\n",
       "  File \"C:\\Users\\jonat\\AppData\\Local\\Temp\\ipykernel_16300\\3618565082.py\", line 34, in chunking_flow\n",
       "    cf.run(\n",
       "  File \"c:\\Users\\jonat\\Documents\\code\\taskchunker-backend\\notebooks\\.venv-notebooks\\Lib\\site-packages\\controlflow\\run.py\", line 147, in run\n",
       "    results = run_tasks(\n",
       "              ^^^^^^^^^^\n",
       "  File \"c:\\Users\\jonat\\Documents\\code\\taskchunker-backend\\notebooks\\.venv-notebooks\\Lib\\site-packages\\controlflow\\run.py\", line 59, in run_tasks\n",
       "    raise ValueError(\n",
       "ValueError: 1 task failed: - Task #775c16dd (\"Classify new tasks\"): No reasons for failure exist.\n"
      ]
     },
     "metadata": {},
     "output_type": "display_data"
    },
    {
     "data": {
      "text/html": [
       "<pre style=\"white-space:pre;overflow-x:auto;line-height:normal;font-family:Menlo,'DejaVu Sans Mono',consolas,'Courier New',monospace\">13:04:26.623 | <span style=\"color: #d70000; text-decoration-color: #d70000\">ERROR</span>   | Flow run<span style=\"color: #800080; text-decoration-color: #800080\"> 'wisteria-porpoise'</span> - Finished in state <span style=\"color: #d70000; text-decoration-color: #d70000\">Failed</span>('Flow run encountered an exception: ValueError: 1 task failed: - Task #775c16dd (\"Classify new tasks\"): No reasons for failure exist.')\n",
       "</pre>\n"
      ],
      "text/plain": [
       "13:04:26.623 | \u001b[38;5;160mERROR\u001b[0m   | Flow run\u001b[35m 'wisteria-porpoise'\u001b[0m - Finished in state \u001b[38;5;160mFailed\u001b[0m('Flow run encountered an exception: ValueError: 1 task failed: - Task #775c16dd (\"Classify new tasks\"): No reasons for failure exist.')\n"
      ]
     },
     "metadata": {},
     "output_type": "display_data"
    },
    {
     "ename": "ValueError",
     "evalue": "1 task failed: - Task #775c16dd (\"Classify new tasks\"): No reasons for failure exist.",
     "output_type": "error",
     "traceback": [
      "\u001b[1;31m---------------------------------------------------------------------------\u001b[0m",
      "\u001b[1;31mValueError\u001b[0m                                Traceback (most recent call last)",
      "Cell \u001b[1;32mIn[31], line 3\u001b[0m\n\u001b[0;32m      1\u001b[0m cf\u001b[38;5;241m.\u001b[39msettings\u001b[38;5;241m.\u001b[39mdebug_messages \u001b[38;5;241m=\u001b[39m \u001b[38;5;28;01mTrue\u001b[39;00m\n\u001b[1;32m----> 3\u001b[0m \u001b[43mchunking_flow\u001b[49m\u001b[43m(\u001b[49m\u001b[38;5;124;43m\"\u001b[39;49m\u001b[38;5;124;43mGet a job as a genAI engineer\u001b[39;49m\u001b[38;5;124;43m\"\u001b[39;49m\u001b[43m)\u001b[49m\n",
      "File \u001b[1;32mc:\\Users\\jonat\\Documents\\code\\taskchunker-backend\\notebooks\\.venv-notebooks\\Lib\\site-packages\\prefect\\flows.py:1648\u001b[0m, in \u001b[0;36mFlow.__call__\u001b[1;34m(self, return_state, wait_for, *args, **kwargs)\u001b[0m\n\u001b[0;32m   1644\u001b[0m     \u001b[38;5;28;01mreturn\u001b[39;00m track_viz_task(\u001b[38;5;28mself\u001b[39m\u001b[38;5;241m.\u001b[39misasync, \u001b[38;5;28mself\u001b[39m\u001b[38;5;241m.\u001b[39mname, parameters)\n\u001b[0;32m   1646\u001b[0m \u001b[38;5;28;01mfrom\u001b[39;00m\u001b[38;5;250m \u001b[39m\u001b[38;5;21;01mprefect\u001b[39;00m\u001b[38;5;21;01m.\u001b[39;00m\u001b[38;5;21;01mflow_engine\u001b[39;00m\u001b[38;5;250m \u001b[39m\u001b[38;5;28;01mimport\u001b[39;00m run_flow\n\u001b[1;32m-> 1648\u001b[0m \u001b[38;5;28;01mreturn\u001b[39;00m \u001b[43mrun_flow\u001b[49m\u001b[43m(\u001b[49m\n\u001b[0;32m   1649\u001b[0m \u001b[43m    \u001b[49m\u001b[43mflow\u001b[49m\u001b[38;5;241;43m=\u001b[39;49m\u001b[38;5;28;43mself\u001b[39;49m\u001b[43m,\u001b[49m\n\u001b[0;32m   1650\u001b[0m \u001b[43m    \u001b[49m\u001b[43mparameters\u001b[49m\u001b[38;5;241;43m=\u001b[39;49m\u001b[43mparameters\u001b[49m\u001b[43m,\u001b[49m\n\u001b[0;32m   1651\u001b[0m \u001b[43m    \u001b[49m\u001b[43mwait_for\u001b[49m\u001b[38;5;241;43m=\u001b[39;49m\u001b[43mwait_for\u001b[49m\u001b[43m,\u001b[49m\n\u001b[0;32m   1652\u001b[0m \u001b[43m    \u001b[49m\u001b[43mreturn_type\u001b[49m\u001b[38;5;241;43m=\u001b[39;49m\u001b[43mreturn_type\u001b[49m\u001b[43m,\u001b[49m\n\u001b[0;32m   1653\u001b[0m \u001b[43m\u001b[49m\u001b[43m)\u001b[49m\n",
      "File \u001b[1;32mc:\\Users\\jonat\\Documents\\code\\taskchunker-backend\\notebooks\\.venv-notebooks\\Lib\\site-packages\\prefect\\flow_engine.py:1529\u001b[0m, in \u001b[0;36mrun_flow\u001b[1;34m(flow, flow_run, parameters, wait_for, return_type, error_logger, context)\u001b[0m\n\u001b[0;32m   1527\u001b[0m         ret_val \u001b[38;5;241m=\u001b[39m run_flow_async(\u001b[38;5;241m*\u001b[39m\u001b[38;5;241m*\u001b[39mkwargs)\n\u001b[0;32m   1528\u001b[0m     \u001b[38;5;28;01melse\u001b[39;00m:\n\u001b[1;32m-> 1529\u001b[0m         ret_val \u001b[38;5;241m=\u001b[39m \u001b[43mrun_flow_sync\u001b[49m\u001b[43m(\u001b[49m\u001b[38;5;241;43m*\u001b[39;49m\u001b[38;5;241;43m*\u001b[39;49m\u001b[43mkwargs\u001b[49m\u001b[43m)\u001b[49m\n\u001b[0;32m   1530\u001b[0m \u001b[38;5;28;01mexcept\u001b[39;00m (Abort, Pause):\n\u001b[0;32m   1531\u001b[0m     \u001b[38;5;28;01mraise\u001b[39;00m\n",
      "File \u001b[1;32mc:\\Users\\jonat\\Documents\\code\\taskchunker-backend\\notebooks\\.venv-notebooks\\Lib\\site-packages\\prefect\\flow_engine.py:1374\u001b[0m, in \u001b[0;36mrun_flow_sync\u001b[1;34m(flow, flow_run, parameters, wait_for, return_type, context)\u001b[0m\n\u001b[0;32m   1371\u001b[0m         \u001b[38;5;28;01mwith\u001b[39;00m engine\u001b[38;5;241m.\u001b[39mrun_context():\n\u001b[0;32m   1372\u001b[0m             engine\u001b[38;5;241m.\u001b[39mcall_flow_fn()\n\u001b[1;32m-> 1374\u001b[0m \u001b[38;5;28;01mreturn\u001b[39;00m engine\u001b[38;5;241m.\u001b[39mstate \u001b[38;5;28;01mif\u001b[39;00m return_type \u001b[38;5;241m==\u001b[39m \u001b[38;5;124m\"\u001b[39m\u001b[38;5;124mstate\u001b[39m\u001b[38;5;124m\"\u001b[39m \u001b[38;5;28;01melse\u001b[39;00m \u001b[43mengine\u001b[49m\u001b[38;5;241;43m.\u001b[39;49m\u001b[43mresult\u001b[49m\u001b[43m(\u001b[49m\u001b[43m)\u001b[49m\n",
      "File \u001b[1;32mc:\\Users\\jonat\\Documents\\code\\taskchunker-backend\\notebooks\\.venv-notebooks\\Lib\\site-packages\\prefect\\flow_engine.py:349\u001b[0m, in \u001b[0;36mFlowRunEngine.result\u001b[1;34m(self, raise_on_failure)\u001b[0m\n\u001b[0;32m    347\u001b[0m \u001b[38;5;28;01mif\u001b[39;00m \u001b[38;5;28mself\u001b[39m\u001b[38;5;241m.\u001b[39m_raised \u001b[38;5;129;01mis\u001b[39;00m \u001b[38;5;129;01mnot\u001b[39;00m NotSet:\n\u001b[0;32m    348\u001b[0m     \u001b[38;5;28;01mif\u001b[39;00m raise_on_failure:\n\u001b[1;32m--> 349\u001b[0m         \u001b[38;5;28;01mraise\u001b[39;00m \u001b[38;5;28mself\u001b[39m\u001b[38;5;241m.\u001b[39m_raised\n\u001b[0;32m    350\u001b[0m     \u001b[38;5;28;01mreturn\u001b[39;00m \u001b[38;5;28mself\u001b[39m\u001b[38;5;241m.\u001b[39m_raised\n\u001b[0;32m    352\u001b[0m \u001b[38;5;66;03m# This is a fall through case which leans on the existing state result mechanics to get the\u001b[39;00m\n\u001b[0;32m    353\u001b[0m \u001b[38;5;66;03m# return value. This is necessary because we currently will return a State object if the\u001b[39;00m\n\u001b[0;32m    354\u001b[0m \u001b[38;5;66;03m# the State was Prefect-created.\u001b[39;00m\n\u001b[0;32m    355\u001b[0m \u001b[38;5;66;03m# TODO: Remove the need to get the result from a State except in cases where the return value\u001b[39;00m\n\u001b[0;32m    356\u001b[0m \u001b[38;5;66;03m# is a State object.\u001b[39;00m\n",
      "File \u001b[1;32mc:\\Users\\jonat\\Documents\\code\\taskchunker-backend\\notebooks\\.venv-notebooks\\Lib\\site-packages\\prefect\\flow_engine.py:764\u001b[0m, in \u001b[0;36mFlowRunEngine.run_context\u001b[1;34m(self)\u001b[0m\n\u001b[0;32m    757\u001b[0m     \u001b[38;5;28;01mwith\u001b[39;00m timeout_context(\n\u001b[0;32m    758\u001b[0m         seconds\u001b[38;5;241m=\u001b[39m\u001b[38;5;28mself\u001b[39m\u001b[38;5;241m.\u001b[39mflow\u001b[38;5;241m.\u001b[39mtimeout_seconds,\n\u001b[0;32m    759\u001b[0m         timeout_exc_type\u001b[38;5;241m=\u001b[39mFlowRunTimeoutError,\n\u001b[0;32m    760\u001b[0m     ):\n\u001b[0;32m    761\u001b[0m         \u001b[38;5;28mself\u001b[39m\u001b[38;5;241m.\u001b[39mlogger\u001b[38;5;241m.\u001b[39mdebug(\n\u001b[0;32m    762\u001b[0m             \u001b[38;5;124mf\u001b[39m\u001b[38;5;124m\"\u001b[39m\u001b[38;5;124mExecuting flow \u001b[39m\u001b[38;5;132;01m{\u001b[39;00m\u001b[38;5;28mself\u001b[39m\u001b[38;5;241m.\u001b[39mflow\u001b[38;5;241m.\u001b[39mname\u001b[38;5;132;01m!r}\u001b[39;00m\u001b[38;5;124m for flow run \u001b[39m\u001b[38;5;132;01m{\u001b[39;00m\u001b[38;5;28mself\u001b[39m\u001b[38;5;241m.\u001b[39mflow_run\u001b[38;5;241m.\u001b[39mname\u001b[38;5;132;01m!r}\u001b[39;00m\u001b[38;5;124m...\u001b[39m\u001b[38;5;124m\"\u001b[39m\n\u001b[0;32m    763\u001b[0m         )\n\u001b[1;32m--> 764\u001b[0m         \u001b[38;5;28;01myield\u001b[39;00m \u001b[38;5;28mself\u001b[39m\n\u001b[0;32m    765\u001b[0m \u001b[38;5;28;01mexcept\u001b[39;00m \u001b[38;5;167;01mTimeoutError\u001b[39;00m \u001b[38;5;28;01mas\u001b[39;00m exc:\n\u001b[0;32m    766\u001b[0m     \u001b[38;5;28mself\u001b[39m\u001b[38;5;241m.\u001b[39mhandle_timeout(exc)\n",
      "File \u001b[1;32mc:\\Users\\jonat\\Documents\\code\\taskchunker-backend\\notebooks\\.venv-notebooks\\Lib\\site-packages\\prefect\\flow_engine.py:1372\u001b[0m, in \u001b[0;36mrun_flow_sync\u001b[1;34m(flow, flow_run, parameters, wait_for, return_type, context)\u001b[0m\n\u001b[0;32m   1370\u001b[0m     \u001b[38;5;28;01mwhile\u001b[39;00m engine\u001b[38;5;241m.\u001b[39mis_running():\n\u001b[0;32m   1371\u001b[0m         \u001b[38;5;28;01mwith\u001b[39;00m engine\u001b[38;5;241m.\u001b[39mrun_context():\n\u001b[1;32m-> 1372\u001b[0m             \u001b[43mengine\u001b[49m\u001b[38;5;241;43m.\u001b[39;49m\u001b[43mcall_flow_fn\u001b[49m\u001b[43m(\u001b[49m\u001b[43m)\u001b[49m\n\u001b[0;32m   1374\u001b[0m \u001b[38;5;28;01mreturn\u001b[39;00m engine\u001b[38;5;241m.\u001b[39mstate \u001b[38;5;28;01mif\u001b[39;00m return_type \u001b[38;5;241m==\u001b[39m \u001b[38;5;124m\"\u001b[39m\u001b[38;5;124mstate\u001b[39m\u001b[38;5;124m\"\u001b[39m \u001b[38;5;28;01melse\u001b[39;00m engine\u001b[38;5;241m.\u001b[39mresult()\n",
      "File \u001b[1;32mc:\\Users\\jonat\\Documents\\code\\taskchunker-backend\\notebooks\\.venv-notebooks\\Lib\\site-packages\\prefect\\flow_engine.py:784\u001b[0m, in \u001b[0;36mFlowRunEngine.call_flow_fn\u001b[1;34m(self)\u001b[0m\n\u001b[0;32m    782\u001b[0m     \u001b[38;5;28;01mreturn\u001b[39;00m _call_flow_fn()\n\u001b[0;32m    783\u001b[0m \u001b[38;5;28;01melse\u001b[39;00m:\n\u001b[1;32m--> 784\u001b[0m     result \u001b[38;5;241m=\u001b[39m \u001b[43mcall_with_parameters\u001b[49m\u001b[43m(\u001b[49m\u001b[38;5;28;43mself\u001b[39;49m\u001b[38;5;241;43m.\u001b[39;49m\u001b[43mflow\u001b[49m\u001b[38;5;241;43m.\u001b[39;49m\u001b[43mfn\u001b[49m\u001b[43m,\u001b[49m\u001b[43m \u001b[49m\u001b[38;5;28;43mself\u001b[39;49m\u001b[38;5;241;43m.\u001b[39;49m\u001b[43mparameters\u001b[49m\u001b[43m)\u001b[49m\n\u001b[0;32m    785\u001b[0m     \u001b[38;5;28mself\u001b[39m\u001b[38;5;241m.\u001b[39mhandle_success(result)\n",
      "File \u001b[1;32mc:\\Users\\jonat\\Documents\\code\\taskchunker-backend\\notebooks\\.venv-notebooks\\Lib\\site-packages\\prefect\\utilities\\callables.py:208\u001b[0m, in \u001b[0;36mcall_with_parameters\u001b[1;34m(fn, parameters)\u001b[0m\n\u001b[0;32m    200\u001b[0m \u001b[38;5;250m\u001b[39m\u001b[38;5;124;03m\"\"\"\u001b[39;00m\n\u001b[0;32m    201\u001b[0m \u001b[38;5;124;03mCall a function with parameters extracted with `get_call_parameters`\u001b[39;00m\n\u001b[0;32m    202\u001b[0m \n\u001b[1;32m   (...)\u001b[0m\n\u001b[0;32m    205\u001b[0m \u001b[38;5;124;03mthe args/kwargs using `parameters_to_positional_and_keyword` directly\u001b[39;00m\n\u001b[0;32m    206\u001b[0m \u001b[38;5;124;03m\"\"\"\u001b[39;00m\n\u001b[0;32m    207\u001b[0m args, kwargs \u001b[38;5;241m=\u001b[39m parameters_to_args_kwargs(fn, parameters)\n\u001b[1;32m--> 208\u001b[0m \u001b[38;5;28;01mreturn\u001b[39;00m \u001b[43mfn\u001b[49m\u001b[43m(\u001b[49m\u001b[38;5;241;43m*\u001b[39;49m\u001b[43margs\u001b[49m\u001b[43m,\u001b[49m\u001b[43m \u001b[49m\u001b[38;5;241;43m*\u001b[39;49m\u001b[38;5;241;43m*\u001b[39;49m\u001b[43mkwargs\u001b[49m\u001b[43m)\u001b[49m\n",
      "File \u001b[1;32mc:\\Users\\jonat\\Documents\\code\\taskchunker-backend\\notebooks\\.venv-notebooks\\Lib\\site-packages\\controlflow\\decorators.py:113\u001b[0m, in \u001b[0;36mflow.<locals>.wrapper\u001b[1;34m(*wrapper_args, **wrapper_kwargs)\u001b[0m\n\u001b[0;32m    108\u001b[0m bound\u001b[38;5;241m.\u001b[39mapply_defaults()\n\u001b[0;32m    109\u001b[0m \u001b[38;5;28;01mwith\u001b[39;00m (\n\u001b[0;32m    110\u001b[0m     create_flow_context(bound\u001b[38;5;241m.\u001b[39marguments),\n\u001b[0;32m    111\u001b[0m     controlflow\u001b[38;5;241m.\u001b[39minstructions(instructions),\n\u001b[0;32m    112\u001b[0m ):\n\u001b[1;32m--> 113\u001b[0m     \u001b[38;5;28;01mreturn\u001b[39;00m \u001b[43mfn\u001b[49m\u001b[43m(\u001b[49m\u001b[38;5;241;43m*\u001b[39;49m\u001b[43mwrapper_args\u001b[49m\u001b[43m,\u001b[49m\u001b[43m \u001b[49m\u001b[38;5;241;43m*\u001b[39;49m\u001b[38;5;241;43m*\u001b[39;49m\u001b[43mwrapper_kwargs\u001b[49m\u001b[43m)\u001b[49m\n",
      "Cell \u001b[1;32mIn[29], line 34\u001b[0m, in \u001b[0;36mchunking_flow\u001b[1;34m(project)\u001b[0m\n\u001b[0;32m     22\u001b[0m \u001b[38;5;28;01mif\u001b[39;00m projects_without_nas:\n\u001b[0;32m     23\u001b[0m     \u001b[38;5;66;03m# Generate and classify new tasks\u001b[39;00m\n\u001b[0;32m     24\u001b[0m     cf\u001b[38;5;241m.\u001b[39mrun(\n\u001b[0;32m     25\u001b[0m         \u001b[38;5;124m\"\u001b[39m\u001b[38;5;124mGenerate children for projects without Next Actions\u001b[39m\u001b[38;5;124m\"\u001b[39m,\n\u001b[0;32m     26\u001b[0m         context\u001b[38;5;241m=\u001b[39m\u001b[38;5;28mdict\u001b[39m(\n\u001b[1;32m   (...)\u001b[0m\n\u001b[0;32m     31\u001b[0m         result_type\u001b[38;5;241m=\u001b[39mTaskList,\n\u001b[0;32m     32\u001b[0m     )\n\u001b[1;32m---> 34\u001b[0m     \u001b[43mcf\u001b[49m\u001b[38;5;241;43m.\u001b[39;49m\u001b[43mrun\u001b[49m\u001b[43m(\u001b[49m\n\u001b[0;32m     35\u001b[0m \u001b[43m        \u001b[49m\u001b[38;5;124;43m\"\u001b[39;49m\u001b[38;5;124;43mClassify new tasks\u001b[39;49m\u001b[38;5;124;43m\"\u001b[39;49m\u001b[43m,\u001b[49m\n\u001b[0;32m     36\u001b[0m \u001b[43m        \u001b[49m\u001b[43mcontext\u001b[49m\u001b[38;5;241;43m=\u001b[39;49m\u001b[38;5;28;43mdict\u001b[39;49m\u001b[43m(\u001b[49m\u001b[43mtasks\u001b[49m\u001b[38;5;241;43m=\u001b[39;49m\u001b[43mtasks\u001b[49m\u001b[43m)\u001b[49m\u001b[43m,\u001b[49m\n\u001b[0;32m     37\u001b[0m \u001b[43m        \u001b[49m\u001b[43magents\u001b[49m\u001b[38;5;241;43m=\u001b[39;49m\u001b[43m[\u001b[49m\u001b[43mreviewer\u001b[49m\u001b[43m]\u001b[49m\u001b[43m,\u001b[49m\n\u001b[0;32m     38\u001b[0m \u001b[43m        \u001b[49m\u001b[43mresult_type\u001b[49m\u001b[38;5;241;43m=\u001b[39;49m\u001b[43mTaskList\u001b[49m\n\u001b[0;32m     39\u001b[0m \u001b[43m    \u001b[49m\u001b[43m)\u001b[49m\n\u001b[0;32m     40\u001b[0m \u001b[38;5;28;01melse\u001b[39;00m:\n\u001b[0;32m     41\u001b[0m     \u001b[38;5;66;03m# Check completeness\u001b[39;00m\n\u001b[0;32m     42\u001b[0m     cf\u001b[38;5;241m.\u001b[39mrun(\n\u001b[0;32m     43\u001b[0m         \u001b[38;5;124m\"\u001b[39m\u001b[38;5;124mCheck if all Projects are complete\u001b[39m\u001b[38;5;124m\"\u001b[39m,\n\u001b[0;32m     44\u001b[0m         context\u001b[38;5;241m=\u001b[39m\u001b[38;5;28mdict\u001b[39m(tasks\u001b[38;5;241m=\u001b[39mtasks),\n\u001b[0;32m     45\u001b[0m         agents\u001b[38;5;241m=\u001b[39m[completeness_checker],\n\u001b[0;32m     46\u001b[0m         result_type\u001b[38;5;241m=\u001b[39mList[\u001b[38;5;28mstr\u001b[39m],\n\u001b[0;32m     47\u001b[0m     )\n",
      "File \u001b[1;32mc:\\Users\\jonat\\Documents\\code\\taskchunker-backend\\notebooks\\.venv-notebooks\\Lib\\site-packages\\controlflow\\run.py:147\u001b[0m, in \u001b[0;36mrun\u001b[1;34m(objective, turn_strategy, max_llm_calls, max_agent_turns, raise_on_failure, handlers, model_kwargs, run_until, stream, **task_kwargs)\u001b[0m\n\u001b[0;32m    131\u001b[0m \u001b[38;5;250m\u001b[39m\u001b[38;5;124;03m\"\"\"\u001b[39;00m\n\u001b[0;32m    132\u001b[0m \u001b[38;5;124;03mRun a single task.\u001b[39;00m\n\u001b[0;32m    133\u001b[0m \n\u001b[1;32m   (...)\u001b[0m\n\u001b[0;32m    144\u001b[0m \u001b[38;5;124;03m           e.g. StreamFilter.CONTENT | StreamFilter.AGENT_TOOLS\u001b[39;00m\n\u001b[0;32m    145\u001b[0m \u001b[38;5;124;03m\"\"\"\u001b[39;00m\n\u001b[0;32m    146\u001b[0m task \u001b[38;5;241m=\u001b[39m Task(objective\u001b[38;5;241m=\u001b[39mobjective, \u001b[38;5;241m*\u001b[39m\u001b[38;5;241m*\u001b[39mtask_kwargs)\n\u001b[1;32m--> 147\u001b[0m results \u001b[38;5;241m=\u001b[39m \u001b[43mrun_tasks\u001b[49m\u001b[43m(\u001b[49m\n\u001b[0;32m    148\u001b[0m \u001b[43m    \u001b[49m\u001b[43mtasks\u001b[49m\u001b[38;5;241;43m=\u001b[39;49m\u001b[43m[\u001b[49m\u001b[43mtask\u001b[49m\u001b[43m]\u001b[49m\u001b[43m,\u001b[49m\n\u001b[0;32m    149\u001b[0m \u001b[43m    \u001b[49m\u001b[43mraise_on_failure\u001b[49m\u001b[38;5;241;43m=\u001b[39;49m\u001b[43mraise_on_failure\u001b[49m\u001b[43m,\u001b[49m\n\u001b[0;32m    150\u001b[0m \u001b[43m    \u001b[49m\u001b[43mturn_strategy\u001b[49m\u001b[38;5;241;43m=\u001b[39;49m\u001b[43mturn_strategy\u001b[49m\u001b[43m,\u001b[49m\n\u001b[0;32m    151\u001b[0m \u001b[43m    \u001b[49m\u001b[43mmax_llm_calls\u001b[49m\u001b[38;5;241;43m=\u001b[39;49m\u001b[43mmax_llm_calls\u001b[49m\u001b[43m,\u001b[49m\n\u001b[0;32m    152\u001b[0m \u001b[43m    \u001b[49m\u001b[43mmax_agent_turns\u001b[49m\u001b[38;5;241;43m=\u001b[39;49m\u001b[43mmax_agent_turns\u001b[49m\u001b[43m,\u001b[49m\n\u001b[0;32m    153\u001b[0m \u001b[43m    \u001b[49m\u001b[43mhandlers\u001b[49m\u001b[38;5;241;43m=\u001b[39;49m\u001b[43mhandlers\u001b[49m\u001b[43m,\u001b[49m\n\u001b[0;32m    154\u001b[0m \u001b[43m    \u001b[49m\u001b[43mmodel_kwargs\u001b[49m\u001b[38;5;241;43m=\u001b[39;49m\u001b[43mmodel_kwargs\u001b[49m\u001b[43m,\u001b[49m\n\u001b[0;32m    155\u001b[0m \u001b[43m    \u001b[49m\u001b[43mrun_until\u001b[49m\u001b[38;5;241;43m=\u001b[39;49m\u001b[43mrun_until\u001b[49m\u001b[43m,\u001b[49m\n\u001b[0;32m    156\u001b[0m \u001b[43m    \u001b[49m\u001b[43mstream\u001b[49m\u001b[38;5;241;43m=\u001b[39;49m\u001b[43mstream\u001b[49m\u001b[43m,\u001b[49m\n\u001b[0;32m    157\u001b[0m \u001b[43m\u001b[49m\u001b[43m)\u001b[49m\n\u001b[0;32m    158\u001b[0m \u001b[38;5;28;01mif\u001b[39;00m stream:\n\u001b[0;32m    159\u001b[0m     \u001b[38;5;28;01mreturn\u001b[39;00m results\n",
      "File \u001b[1;32mc:\\Users\\jonat\\Documents\\code\\taskchunker-backend\\notebooks\\.venv-notebooks\\Lib\\site-packages\\controlflow\\run.py:59\u001b[0m, in \u001b[0;36mrun_tasks\u001b[1;34m(tasks, instructions, flow, agent, turn_strategy, raise_on_failure, max_llm_calls, max_agent_turns, handlers, model_kwargs, run_until, stream)\u001b[0m\n\u001b[0;32m     57\u001b[0m     errors \u001b[38;5;241m=\u001b[39m [\u001b[38;5;124mf\u001b[39m\u001b[38;5;124m\"\u001b[39m\u001b[38;5;124m- \u001b[39m\u001b[38;5;132;01m{\u001b[39;00mt\u001b[38;5;241m.\u001b[39mfriendly_name()\u001b[38;5;132;01m}\u001b[39;00m\u001b[38;5;124m: \u001b[39m\u001b[38;5;132;01m{\u001b[39;00mt\u001b[38;5;241m.\u001b[39mresult\u001b[38;5;132;01m}\u001b[39;00m\u001b[38;5;124m\"\u001b[39m \u001b[38;5;28;01mfor\u001b[39;00m t \u001b[38;5;129;01min\u001b[39;00m tasks \u001b[38;5;28;01mif\u001b[39;00m t\u001b[38;5;241m.\u001b[39mis_failed()]\n\u001b[0;32m     58\u001b[0m     \u001b[38;5;28;01mif\u001b[39;00m errors:\n\u001b[1;32m---> 59\u001b[0m         \u001b[38;5;28;01mraise\u001b[39;00m \u001b[38;5;167;01mValueError\u001b[39;00m(\n\u001b[0;32m     60\u001b[0m             \u001b[38;5;124mf\u001b[39m\u001b[38;5;124m\"\u001b[39m\u001b[38;5;132;01m{\u001b[39;00m\u001b[38;5;28mlen\u001b[39m(errors)\u001b[38;5;132;01m}\u001b[39;00m\u001b[38;5;124m task\u001b[39m\u001b[38;5;132;01m{\u001b[39;00m\u001b[38;5;124m'\u001b[39m\u001b[38;5;124ms\u001b[39m\u001b[38;5;124m'\u001b[39m\u001b[38;5;250m \u001b[39m\u001b[38;5;28;01mif\u001b[39;00m\u001b[38;5;250m \u001b[39m\u001b[38;5;28mlen\u001b[39m(errors)\u001b[38;5;250m \u001b[39m\u001b[38;5;241m!=\u001b[39m\u001b[38;5;250m \u001b[39m\u001b[38;5;241m1\u001b[39m\u001b[38;5;250m \u001b[39m\u001b[38;5;28;01melse\u001b[39;00m\u001b[38;5;250m \u001b[39m\u001b[38;5;124m'\u001b[39m\u001b[38;5;124m'\u001b[39m\u001b[38;5;132;01m}\u001b[39;00m\u001b[38;5;124m failed: \u001b[39m\u001b[38;5;124m\"\u001b[39m\n\u001b[0;32m     61\u001b[0m             \u001b[38;5;241m+\u001b[39m \u001b[38;5;124m\"\u001b[39m\u001b[38;5;130;01m\\n\u001b[39;00m\u001b[38;5;124m\"\u001b[39m\u001b[38;5;241m.\u001b[39mjoin(errors)\n\u001b[0;32m     62\u001b[0m         )\n\u001b[0;32m     64\u001b[0m \u001b[38;5;28;01mreturn\u001b[39;00m [t\u001b[38;5;241m.\u001b[39mresult \u001b[38;5;28;01mfor\u001b[39;00m t \u001b[38;5;129;01min\u001b[39;00m tasks]\n",
      "\u001b[1;31mValueError\u001b[0m: 1 task failed: - Task #775c16dd (\"Classify new tasks\"): No reasons for failure exist."
     ]
    }
   ],
   "source": [
    "cf.settings.debug_messages = True\n",
    "\n",
    "chunking_flow(\"Get a job as a genAI engineer\")"
   ]
  }
 ],
 "metadata": {
  "kernelspec": {
   "display_name": ".venv-notebooks",
   "language": "python",
   "name": "python3"
  },
  "language_info": {
   "codemirror_mode": {
    "name": "ipython",
    "version": 3
   },
   "file_extension": ".py",
   "mimetype": "text/x-python",
   "name": "python",
   "nbconvert_exporter": "python",
   "pygments_lexer": "ipython3",
   "version": "3.12.8"
  }
 },
 "nbformat": 4,
 "nbformat_minor": 2
}
