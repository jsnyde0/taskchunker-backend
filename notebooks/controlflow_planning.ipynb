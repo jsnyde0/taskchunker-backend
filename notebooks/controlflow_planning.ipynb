{
 "cells": [
  {
   "cell_type": "markdown",
   "metadata": {},
   "source": [
    "# Testing Agentic Planning with ControlFlow"
   ]
  },
  {
   "cell_type": "code",
   "execution_count": 1,
   "metadata": {},
   "outputs": [
    {
     "data": {
      "text/plain": [
       "True"
      ]
     },
     "execution_count": 1,
     "metadata": {},
     "output_type": "execute_result"
    }
   ],
   "source": [
    "from datetime import datetime\n",
    "from typing import List, Optional\n",
    "\n",
    "import controlflow as cf\n",
    "from dotenv import load_dotenv\n",
    "from pydantic import BaseModel, Field\n",
    "\n",
    "load_dotenv()"
   ]
  },
  {
   "cell_type": "code",
   "execution_count": 2,
   "metadata": {},
   "outputs": [
    {
     "data": {
      "application/vnd.jupyter.widget-view+json": {
       "model_id": "90b72a5a7f1643cd9316b15e6c565692",
       "version_major": 2,
       "version_minor": 0
      },
      "text/plain": [
       "Output()"
      ]
     },
     "metadata": {},
     "output_type": "display_data"
    },
    {
     "data": {
      "text/html": [
       "<pre style=\"white-space:pre;overflow-x:auto;line-height:normal;font-family:Menlo,'DejaVu Sans Mono',consolas,'Courier New',monospace\"></pre>\n"
      ],
      "text/plain": []
     },
     "metadata": {},
     "output_type": "display_data"
    },
    {
     "name": "stdout",
     "output_type": "stream",
     "text": [
      "1. Research and Analysis: Understand the requirements and scope of a task chunker. Conduct research on existing methodologies and tools.\n",
      "\n",
      "2. Design and Planning: Design the architecture and flow for the task chunker. Plan out the key components and features.\n",
      "\n",
      "3. Development: Implement core logic for task breakdown. Develop user interface and system to manage subtasks.\n",
      "\n",
      "4. Testing: Create test cases and conduct user testing for functionality and usability.\n",
      "\n",
      "5. Deployment: Prepare and deploy the task chunker, integrate with systems.\n",
      "\n",
      "6. Documentation and Training: Write usage documentation and provide training materials/sessions.\n",
      "\n",
      "7. Feedback and Iteration: Gather feedback and iterate on design and functionality.\n"
     ]
    }
   ],
   "source": [
    "reply = cf.run(\n",
    "    \"Chunk a project into smaller tasks\",\n",
    "    context=dict(project=\"Build a task chunker\"),\n",
    ")\n",
    "\n",
    "print(reply)"
   ]
  },
  {
   "cell_type": "code",
   "execution_count": 4,
   "metadata": {},
   "outputs": [
    {
     "data": {
      "application/vnd.jupyter.widget-view+json": {
       "model_id": "296d1d880e7849b8adae86746f520a1e",
       "version_major": 2,
       "version_minor": 0
      },
      "text/plain": [
       "Output()"
      ]
     },
     "metadata": {},
     "output_type": "display_data"
    },
    {
     "data": {
      "text/html": [
       "<pre style=\"white-space:pre;overflow-x:auto;line-height:normal;font-family:Menlo,'DejaVu Sans Mono',consolas,'Courier New',monospace\"></pre>\n"
      ],
      "text/plain": []
     },
     "metadata": {},
     "output_type": "display_data"
    },
    {
     "name": "stdout",
     "output_type": "stream",
     "text": [
      "1. Define the project objective\n",
      "   1.1 Clarify the purpose of building a task chunker\n",
      "   1.2 Identify target users\n",
      "   1.3 Determine the expected outcomes\n",
      "2. Research existing solutions\n",
      "   2.1 Analyze current task chunker tools\n",
      "   2.2 Identify gaps in existing tools\n",
      "   2.3 Gather user feedback on existing solutions\n",
      "3. Design the task chunker\n",
      "   3.1 Create user personas\n",
      "   3.2 Develop wireframes\n",
      "   3.3 Define the architecture and features\n",
      "4. Develop the task chunker\n",
      "   4.1 Set up the development environment\n",
      "   4.2 Implement features\n",
      "       4.2.1 Task creation\n",
      "       4.2.2 Task organization\n",
      "       4.2.3 Task tracking\n",
      "   4.3 Conduct unit testing\n",
      "   4.4 Integrate components\n",
      "5. Test the task chunker\n",
      "   5.1 Prepare test cases\n",
      "   5.2 Conduct user testing\n",
      "   5.3 Gather feedback and make improvements\n",
      "6. Launch the task chunker\n",
      "   6.1 Prepare marketing materials\n",
      "   6.2 Deploy to production\n",
      "   6.3 Monitor user engagement\n",
      "   6.4 Collect feedback for future iterations\n"
     ]
    }
   ],
   "source": [
    "# Create a specialized agent\n",
    "chunker = cf.Agent(\n",
    "    name=\"Project Chunker\",\n",
    "    model=\"openai/gpt-4o-mini\",\n",
    "    instructions=\"You are a project planning expert using the Getting Things Done \\\n",
    "        (GTD) methodology. When given a project or task, chunk it down into a \\\n",
    "        hierarchical tree of subtasks.\",\n",
    ")\n",
    "\n",
    "\n",
    "# Set up a ControlFlow task to classify emails\n",
    "tasks = cf.run(\n",
    "    \"Chunk the project into a hierarchical task tree\",\n",
    "    # result_type=TaskList,\n",
    "    agents=[chunker],\n",
    "    context=dict(project=\"Build a task chunker\"),\n",
    ")\n",
    "\n",
    "print(tasks)"
   ]
  },
  {
   "cell_type": "code",
   "execution_count": 5,
   "metadata": {},
   "outputs": [
    {
     "data": {
      "application/vnd.jupyter.widget-view+json": {
       "model_id": "9fa30824cdca40cab64c1e429f6129c2",
       "version_major": 2,
       "version_minor": 0
      },
      "text/plain": [
       "Output()"
      ]
     },
     "metadata": {},
     "output_type": "display_data"
    },
    {
     "data": {
      "text/html": [
       "<pre style=\"white-space:pre;overflow-x:auto;line-height:normal;font-family:Menlo,'DejaVu Sans Mono',consolas,'Courier New',monospace\"></pre>\n"
      ],
      "text/plain": []
     },
     "metadata": {},
     "output_type": "display_data"
    },
    {
     "name": "stdout",
     "output_type": "stream",
     "text": [
      "1. Define the project scope\n",
      "   1.1 Identify the main goals and objectives\n",
      "   1.2 Determine the required resources\n",
      "   1.3 Establish a timeline\n",
      "   1.4 Outline deliverables\n",
      "2. Research and gather information\n",
      "   2.1 Study existing task chunking methodologies\n",
      "   2.2 Analyze best practices in project management\n",
      "   2.3 Collect relevant tools and technologies\n",
      "3. Design the task chunker\n",
      "   3.1 Create wireframes and prototypes\n",
      "   3.2 Define user interface and experience\n",
      "   3.3 Specify technical requirements\n",
      "4. Develop the task chunker\n",
      "   4.1 Initialize the project repository\n",
      "   4.2 Implement core functionality\n",
      "   4.3 Integrate user interface\n",
      "   4.4 Conduct unit testing\n",
      "5. Test the task chunker\n",
      "   5.1 Perform user acceptance testing\n",
      "   5.2 Gather user feedback\n",
      "   5.3 Fix identified issues\n",
      "6. Launch the task chunker\n",
      "   6.1 Deploy the application\n",
      "   6.2 Market the application\n",
      "   6.3 Provide user support and documentation\n"
     ]
    }
   ],
   "source": [
    "# Create a specialized agent\n",
    "chunker = cf.Agent(\n",
    "    name=\"Project Chunker\",\n",
    "    model=\"openai/gpt-4o-mini\",\n",
    "    instructions=\"You are a project planning expert using the Getting Things Done \\\n",
    "        (GTD) methodology. When given a project or task, chunk it down into a \\\n",
    "        hierarchical tree of subtasks.\",\n",
    ")\n",
    "\n",
    "\n",
    "class ChunkedTask(BaseModel):\n",
    "    id: str = Field(description=\"Unique identifier for the task\")\n",
    "    parent_id: Optional[str] = Field(\n",
    "        None, description=\"ID of parent task, null if root\"\n",
    "    )\n",
    "    title: str = Field(description=\"Short title/summary of the task\")\n",
    "    created_at: datetime = Field(default_factory=datetime.utcnow)\n",
    "\n",
    "\n",
    "class TaskList(BaseModel):\n",
    "    tasks: List[\"ChunkedTask\"] = Field(default_factory=list)\n",
    "\n",
    "\n",
    "# Set up a ControlFlow task to classify emails\n",
    "chunk_task = cf.Task(\n",
    "    objective=\"Chunk the project into a hierarchical task tree\",\n",
    "    result_type=TaskList,\n",
    "    agents=[chunker],\n",
    "    context=dict(project=\"Build a task chunker\"),\n",
    ")\n",
    "\n",
    "tasks = chunk_task.run()\n",
    "\n",
    "print(tasks)"
   ]
  }
 ],
 "metadata": {
  "kernelspec": {
   "display_name": ".venv-notebooks",
   "language": "python",
   "name": "python3"
  },
  "language_info": {
   "codemirror_mode": {
    "name": "ipython",
    "version": 3
   },
   "file_extension": ".py",
   "mimetype": "text/x-python",
   "name": "python",
   "nbconvert_exporter": "python",
   "pygments_lexer": "ipython3",
   "version": "3.12.8"
  }
 },
 "nbformat": 4,
 "nbformat_minor": 2
}
