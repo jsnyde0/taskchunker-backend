{
 "cells": [
  {
   "cell_type": "markdown",
   "metadata": {},
   "source": [
    "# Testing Agentic Planning\n"
   ]
  },
  {
   "cell_type": "code",
   "execution_count": 1,
   "metadata": {},
   "outputs": [
    {
     "data": {
      "text/plain": [
       "True"
      ]
     },
     "execution_count": 1,
     "metadata": {},
     "output_type": "execute_result"
    }
   ],
   "source": [
    "from crewai import Agent, Crew, Task\n",
    "from dotenv import load_dotenv\n",
    "from langchain_openai import ChatOpenAI\n",
    "\n",
    "load_dotenv()"
   ]
  },
  {
   "cell_type": "code",
   "execution_count": 3,
   "metadata": {},
   "outputs": [
    {
     "name": "stderr",
     "output_type": "stream",
     "text": [
      "Overriding of current TracerProvider is not allowed\n"
     ]
    },
    {
     "name": "stdout",
     "output_type": "stream",
     "text": [
      "\u001b[1m\u001b[95m# Agent:\u001b[00m \u001b[1m\u001b[92mResearcher\u001b[00m\n",
      "\u001b[95m## Task:\u001b[00m \u001b[92mHow do CrewAI and Prefect's controlflow compare?\u001b[00m\n",
      "\n",
      "\n",
      "\u001b[1m\u001b[95m# Agent:\u001b[00m \u001b[1m\u001b[92mResearcher\u001b[00m\n",
      "\u001b[95m## Final Answer:\u001b[00m \u001b[92m\n",
      "1. **Purpose & Use Case**:\n",
      "   - **CrewAI**: Primarily designed for managing large-scale machine learning workflows and data pipelines. Its control flow is tailored for data science applications, allowing users to seamlessly orchestrate complex processes.\n",
      "   - **Prefect**: Aims to provide workflow orchestration for various data tasks, including ETL processes and data automation. Prefect is more general-purpose and supports broader use cases beyond just machine learning.\n",
      "\n",
      "2. **Control Flow Mechanism**:\n",
      "   - **CrewAI**: Offers a more ML-centric control flow that focuses on stages of model training, evaluation, and deployment, allowing users to specify dependencies that are specifically relevant for data science tasks.\n",
      "   - **Prefect**: Utilizes a flexible task-based control flow model that allows for clear task dependencies, retries, and conditional logic, making it adaptable for various types of data workflows.\n",
      "\n",
      "3. **User-Friendliness**:\n",
      "   - **CrewAI**: Generally has a simpler user interface that is designed for data scientists who may not have extensive engineering backgrounds, focusing on ease of use for machine learning models.\n",
      "   - **Prefect**: More geared toward data engineers, it has a steeper learning curve due to its extensive features and flexibility, but offers a robust UI for monitoring and managing workflows.\n",
      "\n",
      "4. **Dependency Management**:\n",
      "   - **CrewAI**: Supports automatic dependency resolution based on the flow defined by the user, which is beneficial in complex machine learning scenarios.\n",
      "   - **Prefect**: Allows for explicit dependency declaration, providing fine-grained control over task execution order, retries, and failure handling.\n",
      "\n",
      "5. **Integration & Ecosystem**:\n",
      "   - **CrewAI**: Offers integrations primarily with tools and libraries popular in the ML domain (e.g., TensorFlow, PyTorch), focusing on workflows that involve these technologies.\n",
      "   - **Prefect**: Supports a wide range of integrations with various data tools, including databases, cloud services, and data ingestion frameworks, making it versatile for diverse ecosystems.\n",
      "\n",
      "6. **Execution Environments**:\n",
      "   - **CrewAI**: Optimized for running machine learning tasks, it may include features that are specific to optimizing resources and managing workloads for ML computations.\n",
      "   - **Prefect**: Can be deployed in various execution environments (local, cloud, or hybrid) with support for running on Kubernetes and other orchestration platforms, offering more flexibility in deployment.\n",
      "\n",
      "7. **Monitoring & Logging**:\n",
      "   - **CrewAI**: Typically includes monitoring tools specifically useful for tracking model performance and data changes which are important for ML pipelines.\n",
      "   - **Prefect**: Provides extensive monitoring and logging capabilities, allowing users to see real-time execution details, failure reasons, and historical data for all tasks in the pipeline.\n",
      "\n",
      "Overall, CrewAI is tailored towards optimizing workflows related primarily to machine learning, while Prefect offers a more general-purpose orchestration solution that is adaptable to various data tasks and workflows.\u001b[00m\n",
      "\n",
      "\n",
      "\n",
      "Final Result:\n",
      "1. **Purpose & Use Case**:\n",
      "   - **CrewAI**: Primarily designed for managing large-scale machine learning workflows and data pipelines. Its control flow is tailored for data science applications, allowing users to seamlessly orchestrate complex processes.\n",
      "   - **Prefect**: Aims to provide workflow orchestration for various data tasks, including ETL processes and data automation. Prefect is more general-purpose and supports broader use cases beyond just machine learning.\n",
      "\n",
      "2. **Control Flow Mechanism**:\n",
      "   - **CrewAI**: Offers a more ML-centric control flow that focuses on stages of model training, evaluation, and deployment, allowing users to specify dependencies that are specifically relevant for data science tasks.\n",
      "   - **Prefect**: Utilizes a flexible task-based control flow model that allows for clear task dependencies, retries, and conditional logic, making it adaptable for various types of data workflows.\n",
      "\n",
      "3. **User-Friendliness**:\n",
      "   - **CrewAI**: Generally has a simpler user interface that is designed for data scientists who may not have extensive engineering backgrounds, focusing on ease of use for machine learning models.\n",
      "   - **Prefect**: More geared toward data engineers, it has a steeper learning curve due to its extensive features and flexibility, but offers a robust UI for monitoring and managing workflows.\n",
      "\n",
      "4. **Dependency Management**:\n",
      "   - **CrewAI**: Supports automatic dependency resolution based on the flow defined by the user, which is beneficial in complex machine learning scenarios.\n",
      "   - **Prefect**: Allows for explicit dependency declaration, providing fine-grained control over task execution order, retries, and failure handling.\n",
      "\n",
      "5. **Integration & Ecosystem**:\n",
      "   - **CrewAI**: Offers integrations primarily with tools and libraries popular in the ML domain (e.g., TensorFlow, PyTorch), focusing on workflows that involve these technologies.\n",
      "   - **Prefect**: Supports a wide range of integrations with various data tools, including databases, cloud services, and data ingestion frameworks, making it versatile for diverse ecosystems.\n",
      "\n",
      "6. **Execution Environments**:\n",
      "   - **CrewAI**: Optimized for running machine learning tasks, it may include features that are specific to optimizing resources and managing workloads for ML computations.\n",
      "   - **Prefect**: Can be deployed in various execution environments (local, cloud, or hybrid) with support for running on Kubernetes and other orchestration platforms, offering more flexibility in deployment.\n",
      "\n",
      "7. **Monitoring & Logging**:\n",
      "   - **CrewAI**: Typically includes monitoring tools specifically useful for tracking model performance and data changes which are important for ML pipelines.\n",
      "   - **Prefect**: Provides extensive monitoring and logging capabilities, allowing users to see real-time execution details, failure reasons, and historical data for all tasks in the pipeline.\n",
      "\n",
      "Overall, CrewAI is tailored towards optimizing workflows related primarily to machine learning, while Prefect offers a more general-purpose orchestration solution that is adaptable to various data tasks and workflows.\n"
     ]
    }
   ],
   "source": [
    "# Create an OpenAI agent\n",
    "researcher = Agent(\n",
    "    role=\"Researcher\",\n",
    "    goal=\"Research and summarize topics\",\n",
    "    backstory=\"Expert at analyzing and summarizing information\",\n",
    "    verbose=True,\n",
    "    allow_delegation=False,\n",
    "    llm=ChatOpenAI(model=\"gpt-4o-mini\"),\n",
    ")\n",
    "\n",
    "# Create a simple task\n",
    "research_task = Task(\n",
    "    description=\"How do CrewAI and Prefect's controlflow compare?\",\n",
    "    expected_output=\"A clear, concise list overviewing the key differences \\\n",
    "                    between CrewAI and Prefect's controlflow\",\n",
    "    agent=researcher,\n",
    ")\n",
    "\n",
    "# Create and run the crew\n",
    "crew = Crew(agents=[researcher], tasks=[research_task], verbose=True)\n",
    "\n",
    "result = crew.kickoff()\n",
    "print(\"\\nFinal Result:\")\n",
    "print(result)"
   ]
  }
 ],
 "metadata": {
  "kernelspec": {
   "display_name": ".venv-notebooks",
   "language": "python",
   "name": "python3"
  },
  "language_info": {
   "codemirror_mode": {
    "name": "ipython",
    "version": 3
   },
   "file_extension": ".py",
   "mimetype": "text/x-python",
   "name": "python",
   "nbconvert_exporter": "python",
   "pygments_lexer": "ipython3",
   "version": "3.12.8"
  }
 },
 "nbformat": 4,
 "nbformat_minor": 2
}
